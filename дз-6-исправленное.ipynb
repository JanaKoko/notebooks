{
 "cells": [
  {
   "cell_type": "markdown",
   "metadata": {},
   "source": [
    "- Импорт нужных модулей:"
   ]
  },
  {
   "cell_type": "code",
   "execution_count": 1,
   "metadata": {},
   "outputs": [],
   "source": [
    "import requests\n",
    "from bs4 import BeautifulSoup\n",
    "import pprint\n",
    "import pandas as pd\n",
    "import re"
   ]
  },
  {
   "cell_type": "markdown",
   "metadata": {},
   "source": [
    "Запрос:"
   ]
  },
  {
   "cell_type": "code",
   "execution_count": 2,
   "metadata": {},
   "outputs": [
    {
     "data": {
      "text/plain": [
       "200"
      ]
     },
     "execution_count": 2,
     "metadata": {},
     "output_type": "execute_result"
    }
   ],
   "source": [
    "url = 'https://stihi.ru/'\n",
    "response = requests.get(url)\n",
    "response.status_code"
   ]
  },
  {
   "cell_type": "markdown",
   "metadata": {},
   "source": [
    "Полный текст запроса:"
   ]
  },
  {
   "cell_type": "code",
   "execution_count": 3,
   "metadata": {},
   "outputs": [],
   "source": [
    "full = response.text"
   ]
  },
  {
   "cell_type": "markdown",
   "metadata": {},
   "source": [
    "- колонка с рекомендациями\n",
    "- верхнее меню"
   ]
  },
  {
   "cell_type": "code",
   "execution_count": 4,
   "metadata": {},
   "outputs": [],
   "source": [
    "soup = BeautifulSoup(full, 'html.parser')\n",
    "my_column = soup.find_all('div', {'class': 'col1'})\n",
    "head = soup.find_all('ul', {'class': 'headmenu'})"
   ]
  },
  {
   "cell_type": "markdown",
   "metadata": {},
   "source": [
    "- ссылки из верхнего меню"
   ]
  },
  {
   "cell_type": "code",
   "execution_count": 5,
   "metadata": {},
   "outputs": [],
   "source": [
    "head_soup = BeautifulSoup(str(head), 'html.parser')\n",
    "links = head_soup.find_all('a', {'class': None})"
   ]
  },
  {
   "cell_type": "code",
   "execution_count": 6,
   "metadata": {},
   "outputs": [
    {
     "name": "stdout",
     "output_type": "stream",
     "text": [
      "<a href=\"/authors/\">Авторы</a>\n",
      "<a href=\"/poems/\">Произведения</a>\n",
      "<a href=\"/board/\">Рецензии</a>\n",
      "<a href=\"/search.html\">Поиск</a>\n",
      "<a href=\"https://shop.stihi.ru/\">Магазин</a>\n",
      "<a href=\"https://o.stihi.ru/\"><nobr>О портале</nobr></a>\n",
      "<a href=\"/login/\">Вход для авторов</a>\n"
     ]
    }
   ],
   "source": [
    "for l in links:\n",
    "    print (l)"
   ]
  },
  {
   "cell_type": "markdown",
   "metadata": {},
   "source": [
    "ищем нужную ссылку на рекомендуемые произведения:"
   ]
  },
  {
   "cell_type": "code",
   "execution_count": 7,
   "metadata": {},
   "outputs": [
    {
     "data": {
      "text/plain": [
       "'https://stihi.ru//editor/'"
      ]
     },
     "execution_count": 7,
     "metadata": {},
     "output_type": "execute_result"
    }
   ],
   "source": [
    "soup = BeautifulSoup(str(my_column), 'html.parser')\n",
    "rec = soup.find_all('p', {'class': 'toptext'})\n",
    "rec_soup = BeautifulSoup(str(rec), 'html.parser')\n",
    "my_link = rec_soup.find_all('a', {'class': 'topref'})\n",
    "for t in my_link:\n",
    "    if 'произведения' in t.text:\n",
    "        my_href = t.attrs['href']\n",
    "    else:\n",
    "        pass\n",
    "new_url = url+my_href\n",
    "new_url"
   ]
  },
  {
   "cell_type": "code",
   "execution_count": 8,
   "metadata": {},
   "outputs": [
    {
     "data": {
      "text/plain": [
       "200"
      ]
     },
     "execution_count": 8,
     "metadata": {},
     "output_type": "execute_result"
    }
   ],
   "source": [
    "response = requests.get(new_url)\n",
    "response.status_code"
   ]
  },
  {
   "cell_type": "code",
   "execution_count": 9,
   "metadata": {},
   "outputs": [],
   "source": [
    "full_poems = response.text"
   ]
  },
  {
   "cell_type": "markdown",
   "metadata": {},
   "source": [
    "Подготовка словаря, куда будут записаны данные:"
   ]
  },
  {
   "cell_type": "code",
   "execution_count": 10,
   "metadata": {},
   "outputs": [],
   "source": [
    "my_data = {'Автор': [], 'Название': [], 'Год публ.': [],\n",
    "           'Месяц публ.': [], 'День публ.': [], 'Время публ.': []}"
   ]
  },
  {
   "cell_type": "markdown",
   "metadata": {},
   "source": [
    "Функция, которая добавляет в словарь `my_dict` данные `link` по ключу `part`:"
   ]
  },
  {
   "cell_type": "code",
   "execution_count": 11,
   "metadata": {},
   "outputs": [],
   "source": [
    "def plus(part, link, my_dict):\n",
    "    my_dict[part].append(link)"
   ]
  },
  {
   "cell_type": "markdown",
   "metadata": {},
   "source": [
    "`make_data_one` -- функция, которая ищет автора или заголовок и добавляет его в словарь\n",
    "\n",
    "`make_data_two` -- функция, которая ищет год, месяц, день или время и добавляет его в словарь"
   ]
  },
  {
   "cell_type": "code",
   "execution_count": 12,
   "metadata": {},
   "outputs": [],
   "source": [
    "def make_data_one(name, my_type, my_class, data, new_name):\n",
    "    name = link_soup.find(my_type, {'class': my_class})\n",
    "    if name != None:\n",
    "        plus(new_name, name.text, data)\n",
    "        #print(name.text)\n",
    "        \n",
    "def make_data_two(name, data, new_name, num):\n",
    "    name = link_soup.find('small')\n",
    "    if name != None:\n",
    "        good_text = re.split('\\.| |-', name.text)\n",
    "        plus(new_name, good_text[num], data)"
   ]
  },
  {
   "cell_type": "markdown",
   "metadata": {},
   "source": [
    "Теперь эти функции применяются к нужной части сайта:"
   ]
  },
  {
   "cell_type": "code",
   "execution_count": 13,
   "metadata": {
    "scrolled": true
   },
   "outputs": [],
   "source": [
    "poems_soup = BeautifulSoup(full_poems, 'html.parser')\n",
    "my_link = poems_soup.find_all('li')\n",
    "for l in my_link:\n",
    "    link_soup = BeautifulSoup(str(l), 'html.parser')\n",
    "    make_data_one('author', 'a', 'authorlink', my_data, 'Автор')\n",
    "    make_data_one('my_title', 'a', 'poemlink', my_data, 'Название')\n",
    "    make_data_two('year', my_data, 'Год публ.', 4)\n",
    "    make_data_two('month', my_data, 'Месяц публ.', 3)\n",
    "    make_data_two('day', my_data, 'День публ.', 2)\n",
    "    make_data_two('time', my_data, 'Время публ.', 5)"
   ]
  },
  {
   "cell_type": "markdown",
   "metadata": {},
   "source": [
    "Шапка датафрейма:"
   ]
  },
  {
   "cell_type": "code",
   "execution_count": 14,
   "metadata": {},
   "outputs": [
    {
     "data": {
      "text/html": [
       "<div>\n",
       "<style scoped>\n",
       "    .dataframe tbody tr th:only-of-type {\n",
       "        vertical-align: middle;\n",
       "    }\n",
       "\n",
       "    .dataframe tbody tr th {\n",
       "        vertical-align: top;\n",
       "    }\n",
       "\n",
       "    .dataframe thead th {\n",
       "        text-align: right;\n",
       "    }\n",
       "</style>\n",
       "<table border=\"1\" class=\"dataframe\">\n",
       "  <thead>\n",
       "    <tr style=\"text-align: right;\">\n",
       "      <th></th>\n",
       "      <th>Автор</th>\n",
       "      <th>Название</th>\n",
       "      <th>Год публ.</th>\n",
       "      <th>Месяц публ.</th>\n",
       "      <th>День публ.</th>\n",
       "      <th>Время публ.</th>\n",
       "    </tr>\n",
       "  </thead>\n",
       "  <tbody>\n",
       "    <tr>\n",
       "      <th>0</th>\n",
       "      <td>Соня Пащевская</td>\n",
       "      <td>Вечер октября</td>\n",
       "      <td>2020</td>\n",
       "      <td>10</td>\n",
       "      <td>11</td>\n",
       "      <td>11:24</td>\n",
       "    </tr>\n",
       "    <tr>\n",
       "      <th>1</th>\n",
       "      <td>Сергей Кривонос</td>\n",
       "      <td>Кот Семен</td>\n",
       "      <td>2020</td>\n",
       "      <td>10</td>\n",
       "      <td>11</td>\n",
       "      <td>09:52</td>\n",
       "    </tr>\n",
       "    <tr>\n",
       "      <th>2</th>\n",
       "      <td>Марианна Боровкова</td>\n",
       "      <td>Это голуби</td>\n",
       "      <td>2020</td>\n",
       "      <td>10</td>\n",
       "      <td>11</td>\n",
       "      <td>09:52</td>\n",
       "    </tr>\n",
       "    <tr>\n",
       "      <th>3</th>\n",
       "      <td>Таня Зачёсова</td>\n",
       "      <td>Осень, октябрь и огненно-рыжий в моде</td>\n",
       "      <td>2020</td>\n",
       "      <td>10</td>\n",
       "      <td>11</td>\n",
       "      <td>09:46</td>\n",
       "    </tr>\n",
       "    <tr>\n",
       "      <th>4</th>\n",
       "      <td>Юлия Зазимко</td>\n",
       "      <td>Сказочка</td>\n",
       "      <td>2020</td>\n",
       "      <td>10</td>\n",
       "      <td>11</td>\n",
       "      <td>09:44</td>\n",
       "    </tr>\n",
       "  </tbody>\n",
       "</table>\n",
       "</div>"
      ],
      "text/plain": [
       "                Автор                               Название Год публ.  \\\n",
       "0      Соня Пащевская                          Вечер октября      2020   \n",
       "1     Сергей Кривонос                              Кот Семен      2020   \n",
       "2  Марианна Боровкова                             Это голуби      2020   \n",
       "3       Таня Зачёсова  Осень, октябрь и огненно-рыжий в моде      2020   \n",
       "4        Юлия Зазимко                               Сказочка      2020   \n",
       "\n",
       "  Месяц публ. День публ. Время публ.  \n",
       "0          10         11       11:24  \n",
       "1          10         11       09:52  \n",
       "2          10         11       09:52  \n",
       "3          10         11       09:46  \n",
       "4          10         11       09:44  "
      ]
     },
     "execution_count": 14,
     "metadata": {},
     "output_type": "execute_result"
    }
   ],
   "source": [
    "my_df = pd.DataFrame(my_data)\n",
    "my_df.head()"
   ]
  },
  {
   "cell_type": "markdown",
   "metadata": {},
   "source": [
    "Отсортированные данные:"
   ]
  },
  {
   "cell_type": "code",
   "execution_count": 15,
   "metadata": {},
   "outputs": [
    {
     "data": {
      "text/html": [
       "<div>\n",
       "<style scoped>\n",
       "    .dataframe tbody tr th:only-of-type {\n",
       "        vertical-align: middle;\n",
       "    }\n",
       "\n",
       "    .dataframe tbody tr th {\n",
       "        vertical-align: top;\n",
       "    }\n",
       "\n",
       "    .dataframe thead th {\n",
       "        text-align: right;\n",
       "    }\n",
       "</style>\n",
       "<table border=\"1\" class=\"dataframe\">\n",
       "  <thead>\n",
       "    <tr style=\"text-align: right;\">\n",
       "      <th></th>\n",
       "      <th>Автор</th>\n",
       "      <th>Название</th>\n",
       "      <th>Год публ.</th>\n",
       "      <th>Месяц публ.</th>\n",
       "      <th>День публ.</th>\n",
       "      <th>Время публ.</th>\n",
       "    </tr>\n",
       "  </thead>\n",
       "  <tbody>\n",
       "    <tr>\n",
       "      <th>28</th>\n",
       "      <td>Таня Зачёсова</td>\n",
       "      <td>Я словно лист, что не желает падать</td>\n",
       "      <td>2020</td>\n",
       "      <td>10</td>\n",
       "      <td>07</td>\n",
       "      <td>15:31</td>\n",
       "    </tr>\n",
       "    <tr>\n",
       "      <th>22</th>\n",
       "      <td>Мария Фроловская</td>\n",
       "      <td>Маленький посёлок на побережье</td>\n",
       "      <td>2020</td>\n",
       "      <td>10</td>\n",
       "      <td>07</td>\n",
       "      <td>11:17</td>\n",
       "    </tr>\n",
       "    <tr>\n",
       "      <th>21</th>\n",
       "      <td>Сергей Хомутов Рыбинск</td>\n",
       "      <td>Бывший друг</td>\n",
       "      <td>2020</td>\n",
       "      <td>10</td>\n",
       "      <td>07</td>\n",
       "      <td>11:20</td>\n",
       "    </tr>\n",
       "    <tr>\n",
       "      <th>20</th>\n",
       "      <td>Клавдия Смирягина Дмитриева</td>\n",
       "      <td>Кровь осени пульсирует в висках</td>\n",
       "      <td>2020</td>\n",
       "      <td>10</td>\n",
       "      <td>07</td>\n",
       "      <td>11:21</td>\n",
       "    </tr>\n",
       "    <tr>\n",
       "      <th>19</th>\n",
       "      <td>Андрей Войтов</td>\n",
       "      <td>Хрупкие наивные мечты</td>\n",
       "      <td>2020</td>\n",
       "      <td>10</td>\n",
       "      <td>07</td>\n",
       "      <td>11:24</td>\n",
       "    </tr>\n",
       "    <tr>\n",
       "      <th>18</th>\n",
       "      <td>Ирина Молочкова</td>\n",
       "      <td>Всё прозрачней</td>\n",
       "      <td>2020</td>\n",
       "      <td>10</td>\n",
       "      <td>07</td>\n",
       "      <td>11:27</td>\n",
       "    </tr>\n",
       "    <tr>\n",
       "      <th>17</th>\n",
       "      <td>Игорь Гуревич</td>\n",
       "      <td>Минута осени</td>\n",
       "      <td>2020</td>\n",
       "      <td>10</td>\n",
       "      <td>07</td>\n",
       "      <td>11:30</td>\n",
       "    </tr>\n",
       "    <tr>\n",
       "      <th>16</th>\n",
       "      <td>Сергей Вит Берсенев</td>\n",
       "      <td>Потеряться</td>\n",
       "      <td>2020</td>\n",
       "      <td>10</td>\n",
       "      <td>07</td>\n",
       "      <td>11:34</td>\n",
       "    </tr>\n",
       "    <tr>\n",
       "      <th>15</th>\n",
       "      <td>Лада Миллер</td>\n",
       "      <td>За озером вступили духовые</td>\n",
       "      <td>2020</td>\n",
       "      <td>10</td>\n",
       "      <td>07</td>\n",
       "      <td>11:35</td>\n",
       "    </tr>\n",
       "    <tr>\n",
       "      <th>27</th>\n",
       "      <td>Евгений Захарченко 2</td>\n",
       "      <td>Свидание</td>\n",
       "      <td>2020</td>\n",
       "      <td>10</td>\n",
       "      <td>07</td>\n",
       "      <td>15:33</td>\n",
       "    </tr>\n",
       "    <tr>\n",
       "      <th>26</th>\n",
       "      <td>Наталья Максимова</td>\n",
       "      <td>Ворожили-ворожили</td>\n",
       "      <td>2020</td>\n",
       "      <td>10</td>\n",
       "      <td>08</td>\n",
       "      <td>10:58</td>\n",
       "    </tr>\n",
       "    <tr>\n",
       "      <th>25</th>\n",
       "      <td>Иван Грозный</td>\n",
       "      <td>Уезжаю</td>\n",
       "      <td>2020</td>\n",
       "      <td>10</td>\n",
       "      <td>08</td>\n",
       "      <td>11:03</td>\n",
       "    </tr>\n",
       "    <tr>\n",
       "      <th>24</th>\n",
       "      <td>Альберт Горошко</td>\n",
       "      <td>Ностальгическое</td>\n",
       "      <td>2020</td>\n",
       "      <td>10</td>\n",
       "      <td>08</td>\n",
       "      <td>11:03</td>\n",
       "    </tr>\n",
       "    <tr>\n",
       "      <th>23</th>\n",
       "      <td>Генрих Зорингер</td>\n",
       "      <td>Раздвинутые шторы</td>\n",
       "      <td>2020</td>\n",
       "      <td>10</td>\n",
       "      <td>08</td>\n",
       "      <td>11:07</td>\n",
       "    </tr>\n",
       "    <tr>\n",
       "      <th>14</th>\n",
       "      <td>Сергей Шелковый</td>\n",
       "      <td>Но уже над кармином, шафраном</td>\n",
       "      <td>2020</td>\n",
       "      <td>10</td>\n",
       "      <td>09</td>\n",
       "      <td>13:06</td>\n",
       "    </tr>\n",
       "    <tr>\n",
       "      <th>12</th>\n",
       "      <td>Марина Николаева-Бурак</td>\n",
       "      <td>Цветы и я</td>\n",
       "      <td>2020</td>\n",
       "      <td>10</td>\n",
       "      <td>09</td>\n",
       "      <td>13:11</td>\n",
       "    </tr>\n",
       "    <tr>\n",
       "      <th>11</th>\n",
       "      <td>Таня Иванова-Яковлева</td>\n",
       "      <td>День шуршания листвой</td>\n",
       "      <td>2020</td>\n",
       "      <td>10</td>\n",
       "      <td>09</td>\n",
       "      <td>13:15</td>\n",
       "    </tr>\n",
       "    <tr>\n",
       "      <th>10</th>\n",
       "      <td>Сергей Пагын</td>\n",
       "      <td>С неба кинут наживку</td>\n",
       "      <td>2020</td>\n",
       "      <td>10</td>\n",
       "      <td>09</td>\n",
       "      <td>13:17</td>\n",
       "    </tr>\n",
       "    <tr>\n",
       "      <th>9</th>\n",
       "      <td>Илья Будницкий</td>\n",
       "      <td>Когда-то</td>\n",
       "      <td>2020</td>\n",
       "      <td>10</td>\n",
       "      <td>09</td>\n",
       "      <td>13:22</td>\n",
       "    </tr>\n",
       "    <tr>\n",
       "      <th>13</th>\n",
       "      <td>Владимир Мялин</td>\n",
       "      <td>Таормина</td>\n",
       "      <td>2020</td>\n",
       "      <td>10</td>\n",
       "      <td>09</td>\n",
       "      <td>13:07</td>\n",
       "    </tr>\n",
       "    <tr>\n",
       "      <th>5</th>\n",
       "      <td>Виктор Никифоров Сиринкс</td>\n",
       "      <td>Из провинциальных историй прошлых времён</td>\n",
       "      <td>2020</td>\n",
       "      <td>10</td>\n",
       "      <td>11</td>\n",
       "      <td>09:43</td>\n",
       "    </tr>\n",
       "    <tr>\n",
       "      <th>4</th>\n",
       "      <td>Юлия Зазимко</td>\n",
       "      <td>Сказочка</td>\n",
       "      <td>2020</td>\n",
       "      <td>10</td>\n",
       "      <td>11</td>\n",
       "      <td>09:44</td>\n",
       "    </tr>\n",
       "    <tr>\n",
       "      <th>3</th>\n",
       "      <td>Таня Зачёсова</td>\n",
       "      <td>Осень, октябрь и огненно-рыжий в моде</td>\n",
       "      <td>2020</td>\n",
       "      <td>10</td>\n",
       "      <td>11</td>\n",
       "      <td>09:46</td>\n",
       "    </tr>\n",
       "    <tr>\n",
       "      <th>2</th>\n",
       "      <td>Марианна Боровкова</td>\n",
       "      <td>Это голуби</td>\n",
       "      <td>2020</td>\n",
       "      <td>10</td>\n",
       "      <td>11</td>\n",
       "      <td>09:52</td>\n",
       "    </tr>\n",
       "    <tr>\n",
       "      <th>1</th>\n",
       "      <td>Сергей Кривонос</td>\n",
       "      <td>Кот Семен</td>\n",
       "      <td>2020</td>\n",
       "      <td>10</td>\n",
       "      <td>11</td>\n",
       "      <td>09:52</td>\n",
       "    </tr>\n",
       "    <tr>\n",
       "      <th>0</th>\n",
       "      <td>Соня Пащевская</td>\n",
       "      <td>Вечер октября</td>\n",
       "      <td>2020</td>\n",
       "      <td>10</td>\n",
       "      <td>11</td>\n",
       "      <td>11:24</td>\n",
       "    </tr>\n",
       "    <tr>\n",
       "      <th>8</th>\n",
       "      <td>Фокеева Елена</td>\n",
       "      <td>Осенняя маска</td>\n",
       "      <td>2020</td>\n",
       "      <td>10</td>\n",
       "      <td>12</td>\n",
       "      <td>09:32</td>\n",
       "    </tr>\n",
       "    <tr>\n",
       "      <th>7</th>\n",
       "      <td>Владимир Шугля</td>\n",
       "      <td>В небе парить</td>\n",
       "      <td>2020</td>\n",
       "      <td>10</td>\n",
       "      <td>12</td>\n",
       "      <td>09:34</td>\n",
       "    </tr>\n",
       "    <tr>\n",
       "      <th>6</th>\n",
       "      <td>Борис Фабрикант</td>\n",
       "      <td>Остаток</td>\n",
       "      <td>2020</td>\n",
       "      <td>10</td>\n",
       "      <td>12</td>\n",
       "      <td>09:36</td>\n",
       "    </tr>\n",
       "  </tbody>\n",
       "</table>\n",
       "</div>"
      ],
      "text/plain": [
       "                          Автор                                  Название  \\\n",
       "28                Таня Зачёсова       Я словно лист, что не желает падать   \n",
       "22             Мария Фроловская            Маленький посёлок на побережье   \n",
       "21       Сергей Хомутов Рыбинск                               Бывший друг   \n",
       "20  Клавдия Смирягина Дмитриева           Кровь осени пульсирует в висках   \n",
       "19                Андрей Войтов                     Хрупкие наивные мечты   \n",
       "18              Ирина Молочкова                            Всё прозрачней   \n",
       "17                Игорь Гуревич                              Минута осени   \n",
       "16          Сергей Вит Берсенев                                Потеряться   \n",
       "15                  Лада Миллер                За озером вступили духовые   \n",
       "27         Евгений Захарченко 2                                  Свидание   \n",
       "26            Наталья Максимова                         Ворожили-ворожили   \n",
       "25                 Иван Грозный                                    Уезжаю   \n",
       "24              Альберт Горошко                           Ностальгическое   \n",
       "23              Генрих Зорингер                         Раздвинутые шторы   \n",
       "14              Сергей Шелковый             Но уже над кармином, шафраном   \n",
       "12       Марина Николаева-Бурак                                 Цветы и я   \n",
       "11        Таня Иванова-Яковлева                     День шуршания листвой   \n",
       "10                 Сергей Пагын                      С неба кинут наживку   \n",
       "9                Илья Будницкий                                  Когда-то   \n",
       "13               Владимир Мялин                                  Таормина   \n",
       "5      Виктор Никифоров Сиринкс  Из провинциальных историй прошлых времён   \n",
       "4                  Юлия Зазимко                                  Сказочка   \n",
       "3                 Таня Зачёсова     Осень, октябрь и огненно-рыжий в моде   \n",
       "2            Марианна Боровкова                                Это голуби   \n",
       "1               Сергей Кривонос                                 Кот Семен   \n",
       "0                Соня Пащевская                             Вечер октября   \n",
       "8                 Фокеева Елена                             Осенняя маска   \n",
       "7                Владимир Шугля                             В небе парить   \n",
       "6               Борис Фабрикант                                   Остаток   \n",
       "\n",
       "   Год публ. Месяц публ. День публ. Время публ.  \n",
       "28      2020          10         07       15:31  \n",
       "22      2020          10         07       11:17  \n",
       "21      2020          10         07       11:20  \n",
       "20      2020          10         07       11:21  \n",
       "19      2020          10         07       11:24  \n",
       "18      2020          10         07       11:27  \n",
       "17      2020          10         07       11:30  \n",
       "16      2020          10         07       11:34  \n",
       "15      2020          10         07       11:35  \n",
       "27      2020          10         07       15:33  \n",
       "26      2020          10         08       10:58  \n",
       "25      2020          10         08       11:03  \n",
       "24      2020          10         08       11:03  \n",
       "23      2020          10         08       11:07  \n",
       "14      2020          10         09       13:06  \n",
       "12      2020          10         09       13:11  \n",
       "11      2020          10         09       13:15  \n",
       "10      2020          10         09       13:17  \n",
       "9       2020          10         09       13:22  \n",
       "13      2020          10         09       13:07  \n",
       "5       2020          10         11       09:43  \n",
       "4       2020          10         11       09:44  \n",
       "3       2020          10         11       09:46  \n",
       "2       2020          10         11       09:52  \n",
       "1       2020          10         11       09:52  \n",
       "0       2020          10         11       11:24  \n",
       "8       2020          10         12       09:32  \n",
       "7       2020          10         12       09:34  \n",
       "6       2020          10         12       09:36  "
      ]
     },
     "execution_count": 15,
     "metadata": {},
     "output_type": "execute_result"
    }
   ],
   "source": [
    "my_df.sort_values(by='Год публ.').sort_values(by='Месяц публ.').sort_values(by='День публ.')"
   ]
  },
  {
   "cell_type": "code",
   "execution_count": null,
   "metadata": {},
   "outputs": [],
   "source": []
  }
 ],
 "metadata": {
  "kernelspec": {
   "display_name": "Python 3",
   "language": "python",
   "name": "python3"
  },
  "language_info": {
   "codemirror_mode": {
    "name": "ipython",
    "version": 3
   },
   "file_extension": ".py",
   "mimetype": "text/x-python",
   "name": "python",
   "nbconvert_exporter": "python",
   "pygments_lexer": "ipython3",
   "version": "3.8.6rc1"
  }
 },
 "nbformat": 4,
 "nbformat_minor": 4
}
