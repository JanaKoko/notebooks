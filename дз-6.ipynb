{
 "cells": [
  {
   "cell_type": "markdown",
   "metadata": {},
   "source": [
    "- Импорт нужных модулей:"
   ]
  },
  {
   "cell_type": "code",
   "execution_count": 1,
   "metadata": {},
   "outputs": [],
   "source": [
    "import requests\n",
    "from bs4 import BeautifulSoup\n",
    "import pprint\n",
    "import pandas as pd"
   ]
  },
  {
   "cell_type": "markdown",
   "metadata": {},
   "source": [
    "Запрос:"
   ]
  },
  {
   "cell_type": "code",
   "execution_count": 2,
   "metadata": {},
   "outputs": [
    {
     "data": {
      "text/plain": [
       "200"
      ]
     },
     "execution_count": 2,
     "metadata": {},
     "output_type": "execute_result"
    }
   ],
   "source": [
    "response = requests.get(\"https://stihi.ru/\")\n",
    "response.status_code"
   ]
  },
  {
   "cell_type": "markdown",
   "metadata": {},
   "source": [
    "Полный текст запроса:"
   ]
  },
  {
   "cell_type": "code",
   "execution_count": 3,
   "metadata": {},
   "outputs": [],
   "source": [
    "full = response.text"
   ]
  },
  {
   "cell_type": "markdown",
   "metadata": {},
   "source": [
    "- колонка с рекомендациями\n",
    "- верхнее меню"
   ]
  },
  {
   "cell_type": "code",
   "execution_count": 4,
   "metadata": {},
   "outputs": [],
   "source": [
    "soup = BeautifulSoup(full, 'html.parser')\n",
    "my_column = soup.find_all('div', {'class': 'mainblock'})\n",
    "head = soup.find_all('ul', {'class': 'headmenu'})"
   ]
  },
  {
   "cell_type": "markdown",
   "metadata": {},
   "source": [
    "- ссылки из верхнего меню"
   ]
  },
  {
   "cell_type": "code",
   "execution_count": 5,
   "metadata": {},
   "outputs": [],
   "source": [
    "soup = BeautifulSoup(str(head), 'html.parser')\n",
    "links = soup.find_all('a', {'class': None})"
   ]
  },
  {
   "cell_type": "code",
   "execution_count": 6,
   "metadata": {},
   "outputs": [
    {
     "name": "stdout",
     "output_type": "stream",
     "text": [
      "<a href=\"/authors/\">Авторы</a>\n",
      "<a href=\"/poems/\">Произведения</a>\n",
      "<a href=\"/board/\">Рецензии</a>\n",
      "<a href=\"/search.html\">Поиск</a>\n",
      "<a href=\"https://shop.stihi.ru/\">Магазин</a>\n",
      "<a href=\"https://o.stihi.ru/\"><nobr>О портале</nobr></a>\n",
      "<a href=\"/login/\">Вход для авторов</a>\n"
     ]
    }
   ],
   "source": [
    "for l in links:\n",
    "    print (l)"
   ]
  },
  {
   "cell_type": "markdown",
   "metadata": {},
   "source": [
    "- ссылка на автора\n",
    "- ссылка ни стихотворение"
   ]
  },
  {
   "cell_type": "code",
   "execution_count": 7,
   "metadata": {},
   "outputs": [],
   "source": [
    "soup = BeautifulSoup(str(my_column), 'html.parser')\n",
    "author_link = soup.find_all('a', {'class': 'authorlink'})\n",
    "poem_link = soup.find_all('a', {'class': 'poemlink'})"
   ]
  },
  {
   "cell_type": "markdown",
   "metadata": {},
   "source": [
    "Подготовка данных для датафрейма:"
   ]
  },
  {
   "cell_type": "code",
   "execution_count": 8,
   "metadata": {},
   "outputs": [],
   "source": [
    "my_data = {'Автор': [], 'Название': [], 'Год публ.': [],\n",
    "           'Месяц публ.': [], 'День публ.': []}"
   ]
  },
  {
   "cell_type": "markdown",
   "metadata": {},
   "source": [
    "Имя атора добавляется в словарь по ключу 'Автор'"
   ]
  },
  {
   "cell_type": "code",
   "execution_count": 9,
   "metadata": {},
   "outputs": [],
   "source": [
    "for link in author_link:\n",
    "    author = link.get_text()\n",
    "    my_data['Автор'].append(author)"
   ]
  },
  {
   "cell_type": "markdown",
   "metadata": {},
   "source": [
    "Добавлются остальные данные:"
   ]
  },
  {
   "cell_type": "code",
   "execution_count": 10,
   "metadata": {},
   "outputs": [],
   "source": [
    "for link in poem_link:\n",
    "    name = link.get_text()\n",
    "    attrs = link.attrs\n",
    "    href = attrs['href']\n",
    "    data = href.split('/')\n",
    "    year, month, day = data[2], data[3], data[4]\n",
    "    my_data['Название'].append(name)\n",
    "    my_data['Год публ.'].append(year)\n",
    "    my_data['Месяц публ.'].append(month)\n",
    "    my_data['День публ.'].append(day)"
   ]
  },
  {
   "cell_type": "markdown",
   "metadata": {},
   "source": [
    "Шапка датафоейма:"
   ]
  },
  {
   "cell_type": "code",
   "execution_count": 11,
   "metadata": {},
   "outputs": [
    {
     "data": {
      "text/html": [
       "<div>\n",
       "<style scoped>\n",
       "    .dataframe tbody tr th:only-of-type {\n",
       "        vertical-align: middle;\n",
       "    }\n",
       "\n",
       "    .dataframe tbody tr th {\n",
       "        vertical-align: top;\n",
       "    }\n",
       "\n",
       "    .dataframe thead th {\n",
       "        text-align: right;\n",
       "    }\n",
       "</style>\n",
       "<table border=\"1\" class=\"dataframe\">\n",
       "  <thead>\n",
       "    <tr style=\"text-align: right;\">\n",
       "      <th></th>\n",
       "      <th>Автор</th>\n",
       "      <th>Название</th>\n",
       "      <th>Год публ.</th>\n",
       "      <th>Месяц публ.</th>\n",
       "      <th>День публ.</th>\n",
       "    </tr>\n",
       "  </thead>\n",
       "  <tbody>\n",
       "    <tr>\n",
       "      <th>0</th>\n",
       "      <td>Виктор Никифоров Сиринкс</td>\n",
       "      <td>Из провинциальных историй прошлых времён</td>\n",
       "      <td>2020</td>\n",
       "      <td>10</td>\n",
       "      <td>11</td>\n",
       "    </tr>\n",
       "    <tr>\n",
       "      <th>1</th>\n",
       "      <td>Борис Фабрикант</td>\n",
       "      <td>Остаток</td>\n",
       "      <td>2020</td>\n",
       "      <td>10</td>\n",
       "      <td>12</td>\n",
       "    </tr>\n",
       "    <tr>\n",
       "      <th>2</th>\n",
       "      <td>Владимир Шугля</td>\n",
       "      <td>В небе парить</td>\n",
       "      <td>2020</td>\n",
       "      <td>10</td>\n",
       "      <td>12</td>\n",
       "    </tr>\n",
       "    <tr>\n",
       "      <th>3</th>\n",
       "      <td>Фокеева Елена</td>\n",
       "      <td>Осенняя маска</td>\n",
       "      <td>2020</td>\n",
       "      <td>10</td>\n",
       "      <td>12</td>\n",
       "    </tr>\n",
       "    <tr>\n",
       "      <th>4</th>\n",
       "      <td>Илья Будницкий</td>\n",
       "      <td>Когда-то</td>\n",
       "      <td>2020</td>\n",
       "      <td>10</td>\n",
       "      <td>09</td>\n",
       "    </tr>\n",
       "  </tbody>\n",
       "</table>\n",
       "</div>"
      ],
      "text/plain": [
       "                      Автор                                  Название  \\\n",
       "0  Виктор Никифоров Сиринкс  Из провинциальных историй прошлых времён   \n",
       "1           Борис Фабрикант                                   Остаток   \n",
       "2            Владимир Шугля                             В небе парить   \n",
       "3             Фокеева Елена                             Осенняя маска   \n",
       "4            Илья Будницкий                                  Когда-то   \n",
       "\n",
       "  Год публ. Месяц публ. День публ.  \n",
       "0      2020          10         11  \n",
       "1      2020          10         12  \n",
       "2      2020          10         12  \n",
       "3      2020          10         12  \n",
       "4      2020          10         09  "
      ]
     },
     "execution_count": 11,
     "metadata": {},
     "output_type": "execute_result"
    }
   ],
   "source": [
    "my_df = pd.DataFrame(my_data)\n",
    "my_df.head()"
   ]
  },
  {
   "cell_type": "markdown",
   "metadata": {},
   "source": [
    "Отсортированные данные:"
   ]
  },
  {
   "cell_type": "code",
   "execution_count": 12,
   "metadata": {},
   "outputs": [
    {
     "data": {
      "text/html": [
       "<div>\n",
       "<style scoped>\n",
       "    .dataframe tbody tr th:only-of-type {\n",
       "        vertical-align: middle;\n",
       "    }\n",
       "\n",
       "    .dataframe tbody tr th {\n",
       "        vertical-align: top;\n",
       "    }\n",
       "\n",
       "    .dataframe thead th {\n",
       "        text-align: right;\n",
       "    }\n",
       "</style>\n",
       "<table border=\"1\" class=\"dataframe\">\n",
       "  <thead>\n",
       "    <tr style=\"text-align: right;\">\n",
       "      <th></th>\n",
       "      <th>Автор</th>\n",
       "      <th>Название</th>\n",
       "      <th>Год публ.</th>\n",
       "      <th>Месяц публ.</th>\n",
       "      <th>День публ.</th>\n",
       "    </tr>\n",
       "  </thead>\n",
       "  <tbody>\n",
       "    <tr>\n",
       "      <th>14</th>\n",
       "      <td>Андрей Войтов</td>\n",
       "      <td>Хрупкие наивные мечты</td>\n",
       "      <td>2020</td>\n",
       "      <td>10</td>\n",
       "      <td>07</td>\n",
       "    </tr>\n",
       "    <tr>\n",
       "      <th>27</th>\n",
       "      <td>Алёна Прохорова</td>\n",
       "      <td>Осень</td>\n",
       "      <td>2020</td>\n",
       "      <td>10</td>\n",
       "      <td>07</td>\n",
       "    </tr>\n",
       "    <tr>\n",
       "      <th>26</th>\n",
       "      <td>Борис Бударин</td>\n",
       "      <td>Осенняя рапсодия</td>\n",
       "      <td>2020</td>\n",
       "      <td>10</td>\n",
       "      <td>07</td>\n",
       "    </tr>\n",
       "    <tr>\n",
       "      <th>25</th>\n",
       "      <td>Александр Рудт</td>\n",
       "      <td>Позади сентября половина</td>\n",
       "      <td>2020</td>\n",
       "      <td>10</td>\n",
       "      <td>07</td>\n",
       "    </tr>\n",
       "    <tr>\n",
       "      <th>24</th>\n",
       "      <td>Таня Зачёсова</td>\n",
       "      <td>Я словно лист, что не желает падать</td>\n",
       "      <td>2020</td>\n",
       "      <td>10</td>\n",
       "      <td>07</td>\n",
       "    </tr>\n",
       "    <tr>\n",
       "      <th>23</th>\n",
       "      <td>Евгений Захарченко 2</td>\n",
       "      <td>Свидание</td>\n",
       "      <td>2020</td>\n",
       "      <td>10</td>\n",
       "      <td>07</td>\n",
       "    </tr>\n",
       "    <tr>\n",
       "      <th>17</th>\n",
       "      <td>Мария Фроловская</td>\n",
       "      <td>Маленький посёлок на побережье</td>\n",
       "      <td>2020</td>\n",
       "      <td>10</td>\n",
       "      <td>07</td>\n",
       "    </tr>\n",
       "    <tr>\n",
       "      <th>16</th>\n",
       "      <td>Сергей Хомутов Рыбинск</td>\n",
       "      <td>Бывший друг</td>\n",
       "      <td>2020</td>\n",
       "      <td>10</td>\n",
       "      <td>07</td>\n",
       "    </tr>\n",
       "    <tr>\n",
       "      <th>15</th>\n",
       "      <td>Клавдия Смирягина Дмитриева</td>\n",
       "      <td>Кровь осени пульсирует в висках</td>\n",
       "      <td>2020</td>\n",
       "      <td>10</td>\n",
       "      <td>07</td>\n",
       "    </tr>\n",
       "    <tr>\n",
       "      <th>28</th>\n",
       "      <td>Евгений Глушаков</td>\n",
       "      <td>Когда б не в чаще мшистый сруб</td>\n",
       "      <td>2020</td>\n",
       "      <td>10</td>\n",
       "      <td>07</td>\n",
       "    </tr>\n",
       "    <tr>\n",
       "      <th>13</th>\n",
       "      <td>Ирина Молочкова</td>\n",
       "      <td>Всё прозрачней</td>\n",
       "      <td>2020</td>\n",
       "      <td>10</td>\n",
       "      <td>07</td>\n",
       "    </tr>\n",
       "    <tr>\n",
       "      <th>12</th>\n",
       "      <td>Игорь Гуревич</td>\n",
       "      <td>Минута осени</td>\n",
       "      <td>2020</td>\n",
       "      <td>10</td>\n",
       "      <td>07</td>\n",
       "    </tr>\n",
       "    <tr>\n",
       "      <th>29</th>\n",
       "      <td>Олег Степаненко</td>\n",
       "      <td>Полусонный полустанок</td>\n",
       "      <td>2020</td>\n",
       "      <td>10</td>\n",
       "      <td>07</td>\n",
       "    </tr>\n",
       "    <tr>\n",
       "      <th>10</th>\n",
       "      <td>Лада Миллер</td>\n",
       "      <td>За озером вступили духовые</td>\n",
       "      <td>2020</td>\n",
       "      <td>10</td>\n",
       "      <td>07</td>\n",
       "    </tr>\n",
       "    <tr>\n",
       "      <th>11</th>\n",
       "      <td>Сергей Вит Берсенев</td>\n",
       "      <td>Потеряться</td>\n",
       "      <td>2020</td>\n",
       "      <td>10</td>\n",
       "      <td>07</td>\n",
       "    </tr>\n",
       "    <tr>\n",
       "      <th>22</th>\n",
       "      <td>Наталья Максимова</td>\n",
       "      <td>Ворожили-ворожили</td>\n",
       "      <td>2020</td>\n",
       "      <td>10</td>\n",
       "      <td>08</td>\n",
       "    </tr>\n",
       "    <tr>\n",
       "      <th>20</th>\n",
       "      <td>Альберт Горошко</td>\n",
       "      <td>Ностальгическое</td>\n",
       "      <td>2020</td>\n",
       "      <td>10</td>\n",
       "      <td>08</td>\n",
       "    </tr>\n",
       "    <tr>\n",
       "      <th>19</th>\n",
       "      <td>Саша Сабельников</td>\n",
       "      <td>С берега</td>\n",
       "      <td>2020</td>\n",
       "      <td>10</td>\n",
       "      <td>08</td>\n",
       "    </tr>\n",
       "    <tr>\n",
       "      <th>21</th>\n",
       "      <td>Иван Грозный</td>\n",
       "      <td>Уезжаю</td>\n",
       "      <td>2020</td>\n",
       "      <td>10</td>\n",
       "      <td>08</td>\n",
       "    </tr>\n",
       "    <tr>\n",
       "      <th>18</th>\n",
       "      <td>Генрих Зорингер</td>\n",
       "      <td>Раздвинутые шторы</td>\n",
       "      <td>2020</td>\n",
       "      <td>10</td>\n",
       "      <td>08</td>\n",
       "    </tr>\n",
       "    <tr>\n",
       "      <th>6</th>\n",
       "      <td>Таня Иванова-Яковлева</td>\n",
       "      <td>День шуршания листвой</td>\n",
       "      <td>2020</td>\n",
       "      <td>10</td>\n",
       "      <td>09</td>\n",
       "    </tr>\n",
       "    <tr>\n",
       "      <th>7</th>\n",
       "      <td>Марина Николаева-Бурак</td>\n",
       "      <td>Цветы и я</td>\n",
       "      <td>2020</td>\n",
       "      <td>10</td>\n",
       "      <td>09</td>\n",
       "    </tr>\n",
       "    <tr>\n",
       "      <th>8</th>\n",
       "      <td>Владимир Мялин</td>\n",
       "      <td>Таормина</td>\n",
       "      <td>2020</td>\n",
       "      <td>10</td>\n",
       "      <td>09</td>\n",
       "    </tr>\n",
       "    <tr>\n",
       "      <th>9</th>\n",
       "      <td>Сергей Шелковый</td>\n",
       "      <td>Но уже над кармином, шафраном</td>\n",
       "      <td>2020</td>\n",
       "      <td>10</td>\n",
       "      <td>09</td>\n",
       "    </tr>\n",
       "    <tr>\n",
       "      <th>5</th>\n",
       "      <td>Сергей Пагын</td>\n",
       "      <td>С неба кинут наживку</td>\n",
       "      <td>2020</td>\n",
       "      <td>10</td>\n",
       "      <td>09</td>\n",
       "    </tr>\n",
       "    <tr>\n",
       "      <th>4</th>\n",
       "      <td>Илья Будницкий</td>\n",
       "      <td>Когда-то</td>\n",
       "      <td>2020</td>\n",
       "      <td>10</td>\n",
       "      <td>09</td>\n",
       "    </tr>\n",
       "    <tr>\n",
       "      <th>0</th>\n",
       "      <td>Виктор Никифоров Сиринкс</td>\n",
       "      <td>Из провинциальных историй прошлых времён</td>\n",
       "      <td>2020</td>\n",
       "      <td>10</td>\n",
       "      <td>11</td>\n",
       "    </tr>\n",
       "    <tr>\n",
       "      <th>3</th>\n",
       "      <td>Фокеева Елена</td>\n",
       "      <td>Осенняя маска</td>\n",
       "      <td>2020</td>\n",
       "      <td>10</td>\n",
       "      <td>12</td>\n",
       "    </tr>\n",
       "    <tr>\n",
       "      <th>2</th>\n",
       "      <td>Владимир Шугля</td>\n",
       "      <td>В небе парить</td>\n",
       "      <td>2020</td>\n",
       "      <td>10</td>\n",
       "      <td>12</td>\n",
       "    </tr>\n",
       "    <tr>\n",
       "      <th>1</th>\n",
       "      <td>Борис Фабрикант</td>\n",
       "      <td>Остаток</td>\n",
       "      <td>2020</td>\n",
       "      <td>10</td>\n",
       "      <td>12</td>\n",
       "    </tr>\n",
       "  </tbody>\n",
       "</table>\n",
       "</div>"
      ],
      "text/plain": [
       "                          Автор                                  Название  \\\n",
       "14                Андрей Войтов                     Хрупкие наивные мечты   \n",
       "27              Алёна Прохорова                                     Осень   \n",
       "26                Борис Бударин                          Осенняя рапсодия   \n",
       "25               Александр Рудт                  Позади сентября половина   \n",
       "24                Таня Зачёсова       Я словно лист, что не желает падать   \n",
       "23         Евгений Захарченко 2                                  Свидание   \n",
       "17             Мария Фроловская            Маленький посёлок на побережье   \n",
       "16       Сергей Хомутов Рыбинск                               Бывший друг   \n",
       "15  Клавдия Смирягина Дмитриева           Кровь осени пульсирует в висках   \n",
       "28             Евгений Глушаков            Когда б не в чаще мшистый сруб   \n",
       "13              Ирина Молочкова                            Всё прозрачней   \n",
       "12                Игорь Гуревич                              Минута осени   \n",
       "29              Олег Степаненко                     Полусонный полустанок   \n",
       "10                  Лада Миллер                За озером вступили духовые   \n",
       "11          Сергей Вит Берсенев                                Потеряться   \n",
       "22            Наталья Максимова                         Ворожили-ворожили   \n",
       "20              Альберт Горошко                           Ностальгическое   \n",
       "19             Саша Сабельников                                  С берега   \n",
       "21                 Иван Грозный                                    Уезжаю   \n",
       "18              Генрих Зорингер                         Раздвинутые шторы   \n",
       "6         Таня Иванова-Яковлева                     День шуршания листвой   \n",
       "7        Марина Николаева-Бурак                                 Цветы и я   \n",
       "8                Владимир Мялин                                  Таормина   \n",
       "9               Сергей Шелковый             Но уже над кармином, шафраном   \n",
       "5                  Сергей Пагын                      С неба кинут наживку   \n",
       "4                Илья Будницкий                                  Когда-то   \n",
       "0      Виктор Никифоров Сиринкс  Из провинциальных историй прошлых времён   \n",
       "3                 Фокеева Елена                             Осенняя маска   \n",
       "2                Владимир Шугля                             В небе парить   \n",
       "1               Борис Фабрикант                                   Остаток   \n",
       "\n",
       "   Год публ. Месяц публ. День публ.  \n",
       "14      2020          10         07  \n",
       "27      2020          10         07  \n",
       "26      2020          10         07  \n",
       "25      2020          10         07  \n",
       "24      2020          10         07  \n",
       "23      2020          10         07  \n",
       "17      2020          10         07  \n",
       "16      2020          10         07  \n",
       "15      2020          10         07  \n",
       "28      2020          10         07  \n",
       "13      2020          10         07  \n",
       "12      2020          10         07  \n",
       "29      2020          10         07  \n",
       "10      2020          10         07  \n",
       "11      2020          10         07  \n",
       "22      2020          10         08  \n",
       "20      2020          10         08  \n",
       "19      2020          10         08  \n",
       "21      2020          10         08  \n",
       "18      2020          10         08  \n",
       "6       2020          10         09  \n",
       "7       2020          10         09  \n",
       "8       2020          10         09  \n",
       "9       2020          10         09  \n",
       "5       2020          10         09  \n",
       "4       2020          10         09  \n",
       "0       2020          10         11  \n",
       "3       2020          10         12  \n",
       "2       2020          10         12  \n",
       "1       2020          10         12  "
      ]
     },
     "execution_count": 12,
     "metadata": {},
     "output_type": "execute_result"
    }
   ],
   "source": [
    "my_df.sort_values(by='Год публ.').sort_values(by='Месяц публ.').sort_values(by='День публ.')"
   ]
  },
  {
   "cell_type": "code",
   "execution_count": null,
   "metadata": {},
   "outputs": [],
   "source": []
  }
 ],
 "metadata": {
  "kernelspec": {
   "display_name": "Python 3",
   "language": "python",
   "name": "python3"
  },
  "language_info": {
   "codemirror_mode": {
    "name": "ipython",
    "version": 3
   },
   "file_extension": ".py",
   "mimetype": "text/x-python",
   "name": "python",
   "nbconvert_exporter": "python",
   "pygments_lexer": "ipython3",
   "version": "3.8.6rc1"
  }
 },
 "nbformat": 4,
 "nbformat_minor": 4
}
