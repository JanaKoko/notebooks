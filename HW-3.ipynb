{
 "cells": [
  {
   "cell_type": "code",
   "execution_count": 21,
   "metadata": {},
   "outputs": [],
   "source": [
    "from pymystem3 import Mystem\n",
    "m = Mystem()"
   ]
  },
  {
   "cell_type": "code",
   "execution_count": 26,
   "metadata": {},
   "outputs": [],
   "source": [
    "import gensim\n",
    "import logging\n",
    "import urllib.request\n",
    "from nltk.corpus import stopwords\n",
    "from nltk.tokenize import word_tokenize\n",
    "from gensim.models import word2vec\n",
    "from pymorphy2 import MorphAnalyzer\n",
    "morph = MorphAnalyzer()\n",
    "import warnings\n",
    "warnings.filterwarnings('ignore')"
   ]
  },
  {
   "cell_type": "code",
   "execution_count": 23,
   "metadata": {},
   "outputs": [],
   "source": [
    "from sklearn.decomposition import PCA\n",
    "import matplotlib.pyplot as plt\n",
    "%matplotlib inline"
   ]
  },
  {
   "cell_type": "markdown",
   "metadata": {},
   "source": [
    "# Пункт 1\n",
    "1. Преобразовать текст в формат:\n",
    "* только леммы, без знаков препинания, все в нижнем регистре\n",
    "* каждое предложение на отдельной строчке"
   ]
  },
  {
   "cell_type": "markdown",
   "metadata": {},
   "source": [
    "2. Обучить модель как показано в конспекте с параметрами\n",
    "* размер вектора 300\n",
    "* минимальное количество вхождений 5\n",
    "* окно 5\n",
    "* количество итераций 50\n",
    "* Вопрос: сколько получилось слов в этой модели?"
   ]
  },
  {
   "cell_type": "code",
   "execution_count": 24,
   "metadata": {},
   "outputs": [],
   "source": [
    "def read_clean(file, new_file):\n",
    "    with open (file, encoding = 'utf-8') as f:\n",
    "        my_text = f.readlines()\n",
    "    for line in my_text:\n",
    "        l = m.lemmatize(line)\n",
    "        words = [w.lower() for w in l if w.isalpha()]\n",
    "        line = ' '.join(words)\n",
    "        with open (new_file, encoding = 'utf-8', mode = 'a') as n_f:\n",
    "            n_f.write(line+'\\n')\n",
    "t = read_clean('anna-karenina.txt', 'lemmas_anna.txt')\n",
    "t"
   ]
  },
  {
   "cell_type": "code",
   "execution_count": 27,
   "metadata": {},
   "outputs": [],
   "source": [
    "f = 'lemmas_anna.txt'\n",
    "data = gensim.models.word2vec.LineSentence(f)"
   ]
  },
  {
   "cell_type": "code",
   "execution_count": 28,
   "metadata": {},
   "outputs": [],
   "source": [
    "logging.basicConfig(format='%(asctime)s : %(levelname)s : %(message)s', level=logging.INFO)"
   ]
  },
  {
   "cell_type": "code",
   "execution_count": 29,
   "metadata": {},
   "outputs": [
    {
     "name": "stderr",
     "output_type": "stream",
     "text": [
      "2020-10-24 22:35:54,782 : INFO : collecting all words and their counts\n",
      "2020-10-24 22:35:54,788 : INFO : PROGRESS: at sentence #0, processed 0 words, keeping 0 word types\n",
      "2020-10-24 22:35:54,876 : INFO : collected 12335 word types from a corpus of 268921 raw words and 7825 sentences\n",
      "2020-10-24 22:35:54,877 : INFO : Loading a fresh vocabulary\n",
      "2020-10-24 22:35:54,885 : INFO : effective_min_count=5 retains 3997 unique words (32% of original 12335, drops 8338)\n",
      "2020-10-24 22:35:54,886 : INFO : effective_min_count=5 leaves 254675 word corpus (94% of original 268921, drops 14246)\n",
      "2020-10-24 22:35:54,900 : INFO : deleting the raw counts dictionary of 12335 items\n",
      "2020-10-24 22:35:54,902 : INFO : sample=0.001 downsamples 56 most-common words\n",
      "2020-10-24 22:35:54,903 : INFO : downsampling leaves estimated 184713 word corpus (72.5% of prior 254675)\n",
      "2020-10-24 22:35:54,912 : INFO : estimated required memory for 3997 words and 300 dimensions: 11591300 bytes\n",
      "2020-10-24 22:35:54,913 : INFO : resetting layer weights\n",
      "2020-10-24 22:35:55,553 : INFO : training model with 3 workers on 3997 vocabulary and 300 features, using sg=0 hs=0 sample=0.001 negative=5 window=5\n",
      "2020-10-24 22:35:55,781 : INFO : worker thread finished; awaiting finish of 2 more threads\n",
      "2020-10-24 22:35:55,783 : INFO : worker thread finished; awaiting finish of 1 more threads\n",
      "2020-10-24 22:35:55,797 : INFO : worker thread finished; awaiting finish of 0 more threads\n",
      "2020-10-24 22:35:55,798 : INFO : EPOCH - 1 : training on 268921 raw words (184679 effective words) took 0.2s, 799704 effective words/s\n",
      "2020-10-24 22:35:56,014 : INFO : worker thread finished; awaiting finish of 2 more threads\n",
      "2020-10-24 22:35:56,024 : INFO : worker thread finished; awaiting finish of 1 more threads\n",
      "2020-10-24 22:35:56,032 : INFO : worker thread finished; awaiting finish of 0 more threads\n",
      "2020-10-24 22:35:56,033 : INFO : EPOCH - 2 : training on 268921 raw words (184683 effective words) took 0.2s, 793934 effective words/s\n",
      "2020-10-24 22:35:56,263 : INFO : worker thread finished; awaiting finish of 2 more threads\n",
      "2020-10-24 22:35:56,273 : INFO : worker thread finished; awaiting finish of 1 more threads\n",
      "2020-10-24 22:35:56,277 : INFO : worker thread finished; awaiting finish of 0 more threads\n",
      "2020-10-24 22:35:56,278 : INFO : EPOCH - 3 : training on 268921 raw words (184883 effective words) took 0.2s, 760184 effective words/s\n",
      "2020-10-24 22:35:56,498 : INFO : worker thread finished; awaiting finish of 2 more threads\n",
      "2020-10-24 22:35:56,501 : INFO : worker thread finished; awaiting finish of 1 more threads\n",
      "2020-10-24 22:35:56,515 : INFO : worker thread finished; awaiting finish of 0 more threads\n",
      "2020-10-24 22:35:56,517 : INFO : EPOCH - 4 : training on 268921 raw words (185019 effective words) took 0.2s, 790007 effective words/s\n",
      "2020-10-24 22:35:56,731 : INFO : worker thread finished; awaiting finish of 2 more threads\n",
      "2020-10-24 22:35:56,738 : INFO : worker thread finished; awaiting finish of 1 more threads\n",
      "2020-10-24 22:35:56,744 : INFO : worker thread finished; awaiting finish of 0 more threads\n",
      "2020-10-24 22:35:56,746 : INFO : EPOCH - 5 : training on 268921 raw words (184602 effective words) took 0.2s, 814092 effective words/s\n",
      "2020-10-24 22:35:56,747 : INFO : training on a 1344605 raw words (923866 effective words) took 1.2s, 774317 effective words/s\n"
     ]
    },
    {
     "name": "stdout",
     "output_type": "stream",
     "text": [
      "Wall time: 1.97 s\n"
     ]
    }
   ],
   "source": [
    "%time model = gensim.models.Word2Vec(data, size=300, window=5, min_count=5, iter = 5)"
   ]
  },
  {
   "cell_type": "code",
   "execution_count": 30,
   "metadata": {},
   "outputs": [
    {
     "name": "stdout",
     "output_type": "stream",
     "text": [
      "3997\n"
     ]
    }
   ],
   "source": [
    "print(len(model.wv.vocab))"
   ]
  },
  {
   "cell_type": "markdown",
   "metadata": {},
   "source": [
    "3. Использовать следующие функции:\n",
    "найти ближайшие 5 слов для\n",
    "* любого частотного слова (союза/местоимения/частицы)\n",
    "* абстрактного понятия\n",
    "* имени главного героя\n",
    "* прилагательных \"хороший\" и \"плохой\" (или любых других антонимов) (краткий комментарий про то, встретились ли синонимы, антонимы, близкие по распределению слова)"
   ]
  },
  {
   "cell_type": "code",
   "execution_count": 32,
   "metadata": {},
   "outputs": [
    {
     "data": {
      "text/plain": [
       "[('мы', 0.9927140474319458),\n",
       " ('ведь', 0.9884583353996277),\n",
       " ('ах', 0.9868578910827637),\n",
       " ('вот', 0.9851326942443848),\n",
       " ('подурнеть', 0.9850607514381409)]"
      ]
     },
     "execution_count": 32,
     "metadata": {},
     "output_type": "execute_result"
    }
   ],
   "source": [
    "model.wv.most_similar(\"а\", topn=5)"
   ]
  },
  {
   "cell_type": "code",
   "execution_count": 33,
   "metadata": {},
   "outputs": [
    {
     "data": {
      "text/plain": [
       "[('душа', 0.9954140186309814),\n",
       " ('положение', 0.9905373454093933),\n",
       " ('сила', 0.9759438037872314),\n",
       " ('любовь', 0.9749729037284851),\n",
       " ('испытывать', 0.9716987013816833)]"
      ]
     },
     "execution_count": 33,
     "metadata": {},
     "output_type": "execute_result"
    }
   ],
   "source": [
    "model.wv.most_similar(\"мысль\", topn=5)"
   ]
  },
  {
   "cell_type": "code",
   "execution_count": 34,
   "metadata": {},
   "outputs": [
    {
     "data": {
      "text/plain": [
       "[('воркуев', 0.9859988689422607),\n",
       " ('князь', 0.97884202003479),\n",
       " ('чудак', 0.9783674478530884),\n",
       " ('княгиня', 0.976367712020874),\n",
       " ('задумчиво', 0.9715678095817566)]"
      ]
     },
     "execution_count": 34,
     "metadata": {},
     "output_type": "execute_result"
    }
   ],
   "source": [
    "model.wv.most_similar(\"левин\", topn=5)"
   ]
  },
  {
   "cell_type": "code",
   "execution_count": 35,
   "metadata": {},
   "outputs": [
    {
     "data": {
      "text/plain": [
       "[('здоровый', 0.9988135099411011),\n",
       " ('батюшка', 0.9985101819038391),\n",
       " ('неохотно', 0.9984514117240906),\n",
       " ('послушать', 0.9983296990394592),\n",
       " ('побуждать', 0.9982552528381348)]"
      ]
     },
     "execution_count": 35,
     "metadata": {},
     "output_type": "execute_result"
    }
   ],
   "source": [
    "model.wv.most_similar(\"константин\", topn=5)"
   ]
  },
  {
   "cell_type": "code",
   "execution_count": 36,
   "metadata": {},
   "outputs": [
    {
     "data": {
      "text/plain": [
       "[('переделывать', 0.9950263500213623),\n",
       " ('должный', 0.992321789264679),\n",
       " ('нельзя', 0.9921967387199402),\n",
       " ('должно', 0.9919891357421875),\n",
       " ('убежденный', 0.9908873438835144)]"
      ]
     },
     "execution_count": 36,
     "metadata": {},
     "output_type": "execute_result"
    }
   ],
   "source": [
    "model.wv.most_similar(\"хороший\", topn=5)"
   ]
  },
  {
   "cell_type": "code",
   "execution_count": 37,
   "metadata": {},
   "outputs": [
    {
     "data": {
      "text/plain": [
       "[('кончаться', 0.9992485046386719),\n",
       " ('обо', 0.999160647392273),\n",
       " ('согласный', 0.998979926109314),\n",
       " ('погибать', 0.9989731311798096),\n",
       " ('завидовать', 0.998711884021759)]"
      ]
     },
     "execution_count": 37,
     "metadata": {},
     "output_type": "execute_result"
    }
   ],
   "source": [
    "model.wv.most_similar(\"плохой\", topn=5)"
   ]
  },
  {
   "cell_type": "markdown",
   "metadata": {},
   "source": [
    "Никаких синонимов или антонимов не встретилось."
   ]
  },
  {
   "cell_type": "markdown",
   "metadata": {},
   "source": [
    "* найти любую семантическую пропорцию (краткий комментарий, почему Вы выбрали такую пропорцию)\n",
    "\n",
    "Была выбрана пропорция из слов, значения которых легко сопоставить. Выяснилось, что для этих слов можель работает хорошо."
   ]
  },
  {
   "cell_type": "code",
   "execution_count": 39,
   "metadata": {},
   "outputs": [
    {
     "data": {
      "text/plain": [
       "[('вы', 0.9717498421669006)]"
      ]
     },
     "execution_count": 39,
     "metadata": {},
     "output_type": "execute_result"
    }
   ],
   "source": [
    "model.wv.most_similar(positive=[\"ты\", \"я\"], negative=[\"мы\"], topn=1)"
   ]
  },
  {
   "cell_type": "markdown",
   "metadata": {},
   "source": [
    "* найти лишнее в списке слов (краткий комментарий про результат)\n",
    "\n",
    "Глагол *становиться* не относится к глаголам речи."
   ]
  },
  {
   "cell_type": "code",
   "execution_count": 40,
   "metadata": {},
   "outputs": [
    {
     "data": {
      "text/plain": [
       "'становиться'"
      ]
     },
     "execution_count": 40,
     "metadata": {},
     "output_type": "execute_result"
    }
   ],
   "source": [
    "model.wv.doesnt_match('отвечать говорить спрашивать становиться понимать'.split())"
   ]
  },
  {
   "cell_type": "markdown",
   "metadata": {},
   "source": [
    "Попробуйте сделать визуализацию с помощью PCA (один из вариантов на выбор, можно предложить свой)\n",
    "* попробуйте на именах героев (4+ имен, можно брать имя и фамилию героя отдельно, это даже интересно): это отражает их отношения / их характеры?\n",
    "* попробуйте на каких-то названиях предметов или животных: насколько это похоже на правду?\n",
    "* попробуйте на союзах, частицах, экспрессивах, многозначных словах: насколько результат соответствует Вашим ожиданиям?"
   ]
  },
  {
   "cell_type": "code",
   "execution_count": 82,
   "metadata": {},
   "outputs": [
    {
     "data": {
      "image/png": "[encoded data removed]",
      "text/plain": [
       "<Figure size 720x720 with 1 Axes>"
      ]
     },
     "metadata": {
      "needs_background": "light"
     },
     "output_type": "display_data"
    }
   ],
   "source": [
    "men = ['левин', 'константин', 'николай', 'стив', 'степан', 'облонский', 'вронский']\n",
    "pca = PCA(n_components=2)\n",
    "pca.fit(model[list(model.wv.vocab)])\n",
    "coords = pca.transform(model[men])\n",
    "plt.figure(figsize=(10, 10))\n",
    "plt.scatter(coords[:, 0], coords[:, 1], s = 100, color='blue')\n",
    "for i, word in enumerate(men):\n",
    "    plt.annotate(word, xy=(coords[i, 0], coords[i, 1]), size = 25)\n",
    "women = ['кити', 'долли', 'дарья', 'бетси', 'анна']\n",
    "coords = pca.transform(model[women])\n",
    "plt.scatter(coords[:, 0], coords[:, 1], s = 100, color='red')\n",
    "for i, word in enumerate(women):\n",
    "    plt.annotate(word, xy=(coords[i, 0], coords[i, 1]), size = 25)\n",
    "plt.title('Characters')\n",
    "plt.show()"
   ]
  },
  {
   "cell_type": "markdown",
   "metadata": {},
   "source": [
    "* Можно заметить, что Анна и Кити довольно близки; кроме того, близки Лёвин и Кити. Это говорит о близости персонажей?\n",
    "* Имена, фамилии и сокращённые имена употребляются по-разному.\n",
    "* Мужчины и женщины не группируются в две группы, как я ожидала."
   ]
  },
  {
   "cell_type": "code",
   "execution_count": 74,
   "metadata": {},
   "outputs": [
    {
     "data": {
      "image/png": "[encoded data removed]",
      "text/plain": [
       "<Figure size 432x288 with 1 Axes>"
      ]
     },
     "metadata": {
      "needs_background": "light"
     },
     "output_type": "display_data"
    }
   ],
   "source": [
    "words = ['мать', 'отец', 'сын', 'дочь', 'брат', 'сестра']\n",
    "pca = PCA(n_components=2)\n",
    "pca.fit(model[list(model.wv.vocab)])\n",
    "coords = pca.transform(model[words])\n",
    "plt.scatter(coords[:, 0], coords[:, 1], s = 100, color='red')\n",
    "plt.title('Relatives')\n",
    "for i, word in enumerate(words):\n",
    "    plt.annotate(word, xy=(coords[i, 0], coords[i, 1]), size = 25)\n",
    "plt.show()"
   ]
  },
  {
   "cell_type": "markdown",
   "metadata": {},
   "source": [
    "Вероятно, в романе наиболее подролбно описаны матери и дочери. По крайней мере, эти родственные связи наиболее часто упоминаются из-за семьи Щербацких."
   ]
  },
  {
   "cell_type": "code",
   "execution_count": 79,
   "metadata": {},
   "outputs": [
    {
     "data": {
      "image/png": "[encoded data removed]",
      "text/plain": [
       "<Figure size 504x504 with 1 Axes>"
      ]
     },
     "metadata": {
      "needs_background": "light"
     },
     "output_type": "display_data"
    }
   ],
   "source": [
    "words = ['глаз', 'ладонь', 'губа', 'щека', 'палец', 'плечо']\n",
    "pca = PCA(n_components=2)\n",
    "pca.fit(model[list(model.wv.vocab)])\n",
    "coords = pca.transform(model[words])\n",
    "plt.figure(figsize=(7, 7))\n",
    "plt.scatter(coords[:, 0], coords[:, 1], s = 150, color='red')\n",
    "plt.title('Words')\n",
    "for i, word in enumerate(words):\n",
    "    plt.annotate(word, xy=(coords[i, 0], coords[i, 1]), size = 25)\n",
    "plt.show()"
   ]
  },
  {
   "cell_type": "code",
   "execution_count": 77,
   "metadata": {},
   "outputs": [
    {
     "data": {
      "image/png": "[encoded data removed]",
      "text/plain": [
       "<Figure size 504x504 with 1 Axes>"
      ]
     },
     "metadata": {
      "needs_background": "light"
     },
     "output_type": "display_data"
    }
   ],
   "source": [
    "words = ['а', 'и', 'о', 'но', 'у', 'к']\n",
    "pca = PCA(n_components=2)\n",
    "pca.fit(model[list(model.wv.vocab)])\n",
    "coords = pca.transform(model[words])\n",
    "plt.figure(figsize=(7, 7))\n",
    "plt.scatter(coords[:, 0], coords[:, 1], s = 150, color ='red')\n",
    "plt.title('Words')\n",
    "for i, word in enumerate(words):\n",
    "    plt.annotate(word, xy=(coords[i, 0], coords[i, 1]), size = 25)\n",
    "plt.show()"
   ]
  },
  {
   "cell_type": "code",
   "execution_count": 78,
   "metadata": {},
   "outputs": [
    {
     "data": {
      "image/png": "[encoded data removed]",
      "text/plain": [
       "<Figure size 504x504 with 1 Axes>"
      ]
     },
     "metadata": {
      "needs_background": "light"
     },
     "output_type": "display_data"
    }
   ],
   "source": [
    "words = ['ах', 'ох', 'ай']\n",
    "pca = PCA(n_components=2)\n",
    "pca.fit(model[list(model.wv.vocab)])\n",
    "coords = pca.transform(model[words])\n",
    "plt.figure(figsize=(7, 7))\n",
    "plt.scatter(coords[:, 0], coords[:, 1], s = 150, color ='red')\n",
    "plt.title('Words')\n",
    "for i, word in enumerate(words):\n",
    "    plt.annotate(word, xy=(coords[i, 0], coords[i, 1]), size = 25)\n",
    "plt.show()"
   ]
  },
  {
   "cell_type": "markdown",
   "metadata": {},
   "source": [
    "*Ах* обозначает приятную эмоцию, а *ох* и*ух* -- неприятные."
   ]
  },
  {
   "cell_type": "code",
   "execution_count": 50,
   "metadata": {},
   "outputs": [],
   "source": [
    "def pre(sent):\n",
    "    pre_sent = sent.lower().split()\n",
    "    pre_sent = m.lemmatize(sent)\n",
    "    my_sent = [w.lower() for w in pre_sent if w.isalpha()]\n",
    "    return my_sent\n",
    "\n",
    "s = 'Уж который раз он видел его приезжавшим в Москву из деревни, где он что-то делал, но что именно, того Степан Аркадьич никогда не мог понять хорошенько, да и не интересовался'\n",
    "prep = pre(s)"
   ]
  },
  {
   "cell_type": "code",
   "execution_count": 51,
   "metadata": {},
   "outputs": [
    {
     "name": "stdout",
     "output_type": "stream",
     "text": [
      "чувство но пожалуйста деревня общество сделать решать сергей борисовна потому знать поверять затем \n"
     ]
    }
   ],
   "source": [
    "def change (my_list, my_model, stops):\n",
    "    new_sent = ''\n",
    "    for word in my_list:\n",
    "        if word not in stops:\n",
    "            common = model.wv.most_similar(word, topn = 1)\n",
    "            new_sent += common[0][0]\n",
    "            new_sent += ' '\n",
    "    print(new_sent)\n",
    "my_stops = stopwords.words('russian')\n",
    "change(prep, model, my_stops)"
   ]
  },
  {
   "cell_type": "code",
   "execution_count": null,
   "metadata": {},
   "outputs": [],
   "source": []
  }
 ],
 "metadata": {
  "kernelspec": {
   "display_name": "Python 3",
   "language": "python",
   "name": "python3"
  },
  "language_info": {
   "codemirror_mode": {
    "name": "ipython",
    "version": 3
   },
   "file_extension": ".py",
   "mimetype": "text/x-python",
   "name": "python",
   "nbconvert_exporter": "python",
   "pygments_lexer": "ipython3",
   "version": "3.8.6rc1"
  }
 },
 "nbformat": 4,
 "nbformat_minor": 4
}
