{
 "cells": [
  {
   "cell_type": "code",
   "execution_count": 1,
   "metadata": {},
   "outputs": [],
   "source": [
    "import sqlite3\n",
    "import pandas as pd\n",
    "import random\n",
    "import matplotlib.pyplot as plt\n",
    "import numpy as np"
   ]
  },
  {
   "cell_type": "markdown",
   "metadata": {},
   "source": [
    "Создаём курсор:"
   ]
  },
  {
   "cell_type": "code",
   "execution_count": 2,
   "metadata": {},
   "outputs": [],
   "source": [
    "con = sqlite3.connect('imdb_small_indexed.db')\n",
    "cur = con.cursor()"
   ]
  },
  {
   "cell_type": "markdown",
   "metadata": {},
   "source": [
    "Создаём таблицу:"
   ]
  },
  {
   "cell_type": "code",
   "execution_count": 4,
   "metadata": {},
   "outputs": [
    {
     "data": {
      "text/plain": [
       "<sqlite3.Cursor at 0xf3f9500>"
      ]
     },
     "execution_count": 4,
     "metadata": {},
     "output_type": "execute_result"
    }
   ],
   "source": [
    "cur.execute(\"\"\"\n",
    "CREATE TABLE my_films_new (\n",
    "    title_id INT, \n",
    "    title TEXT, \n",
    "    premiered INT,\n",
    "    rating REAL,\n",
    "    PRIMARY KEY (title_id)\n",
    ")\n",
    "\"\"\")"
   ]
  },
  {
   "cell_type": "markdown",
   "metadata": {},
   "source": [
    "Находим подходящие фильмы (Мне было лень выбирать фильмы вручную, поэтому здесь фильмы, номера которых кончаются на 0000):"
   ]
  },
  {
   "cell_type": "code",
   "execution_count": 5,
   "metadata": {},
   "outputs": [],
   "source": [
    "my_films_qu = \"\"\"\n",
    "SELECT title_id, title, premiered\n",
    "FROM titles\n",
    "WHERE title_id LIKE \"%0000\"\n",
    "ORDER BY title_id DESC\n",
    "\"\"\""
   ]
  },
  {
   "cell_type": "markdown",
   "metadata": {},
   "source": [
    "Дальше рандомно расставляем рейтинг:"
   ]
  },
  {
   "cell_type": "code",
   "execution_count": 6,
   "metadata": {},
   "outputs": [],
   "source": [
    "cur.execute(my_films_qu)\n",
    "data = cur.fetchall()\n",
    "new_data = []\n",
    "for x in data:\n",
    "    r = random.randint(0, 10)\n",
    "    y = list(x)\n",
    "    y.append(r)\n",
    "    x = tuple(y)\n",
    "    new_data.append(x)"
   ]
  },
  {
   "cell_type": "code",
   "execution_count": 7,
   "metadata": {},
   "outputs": [],
   "source": [
    "cur.executemany(\"INSERT INTO my_films_new VALUES (?, ?, ?, ?)\", new_data)\n",
    "cur.fetchall()\n",
    "con.commit()"
   ]
  },
  {
   "cell_type": "markdown",
   "metadata": {},
   "source": [
    "Делаем индекс:"
   ]
  },
  {
   "cell_type": "code",
   "execution_count": 10,
   "metadata": {},
   "outputs": [
    {
     "data": {
      "text/plain": [
       "[]"
      ]
     },
     "execution_count": 10,
     "metadata": {},
     "output_type": "execute_result"
    }
   ],
   "source": [
    "my_index_qu = \"\"\"\n",
    "CREATE INDEX my_rating_ind_new ON my_films_new (rating)\n",
    "\"\"\"\n",
    "cur.execute(my_index_qu)\n",
    "cur.fetchall()"
   ]
  },
  {
   "cell_type": "markdown",
   "metadata": {},
   "source": [
    "* LIMIT +\n",
    "* WHERE без соединения таблиц +\n",
    "* JOIN +\n",
    "* GROUP BY + HAVING +\n",
    "* GROUP_CONCAT\n",
    "* математические агрегирующие функции (MAX, AVG и т.д.) +"
   ]
  },
  {
   "cell_type": "markdown",
   "metadata": {},
   "source": [
    "Выбираем такие фильмы, что:\n",
    "- рейтинг больше 4\n",
    "- наиболее новые\n",
    "- только четыре"
   ]
  },
  {
   "cell_type": "code",
   "execution_count": 12,
   "metadata": {},
   "outputs": [
    {
     "data": {
      "text/plain": [
       "[('Project Power', 2020),\n",
       " ('Junaci nasega doba', 2020),\n",
       " ('Zlota', 2019),\n",
       " ('Cry for the Bad Man', 2019)]"
      ]
     },
     "execution_count": 12,
     "metadata": {},
     "output_type": "execute_result"
    }
   ],
   "source": [
    "one_qu = \"\"\"\n",
    "SELECT title, premiered\n",
    "FROM my_films_new\n",
    "WHERE rating > 2\n",
    "ORDER BY premiered DESC\n",
    "LIMIT 4\"\"\"\n",
    "cur.execute(one_qu)\n",
    "cur.fetchall()"
   ]
  },
  {
   "cell_type": "markdown",
   "metadata": {},
   "source": [
    "Выбираем фильмы, у которых не совпадает мой рейтинг и рейтинг из большой таблицы:"
   ]
  },
  {
   "cell_type": "code",
   "execution_count": 14,
   "metadata": {},
   "outputs": [
    {
     "data": {
      "text/plain": [
       "[('Cocoanut Grove', 2.0),\n",
       " ('The Woman on the Beach', 4.0),\n",
       " ('Boots and Saddles', 10.0),\n",
       " ('Lehrer leben länger', 3.0),\n",
       " (\"The Devil's Keep\", 10.0),\n",
       " ('Enamored', 8.0),\n",
       " ('Ozzie', 8.0),\n",
       " ('Mat to sing suk si chi mat to sin chi', 3.0),\n",
       " ('No Blood No Tears', 1.0),\n",
       " ('Fastlane', 0.0)]"
      ]
     },
     "execution_count": 14,
     "metadata": {},
     "output_type": "execute_result"
    }
   ],
   "source": [
    "two_qu = \"\"\"\n",
    "SELECT my_films_new.title, my_films_new.rating\n",
    "FROM my_films_new\n",
    "    JOIN rating ON my_films_new.title_id = rating.title_id\n",
    "WHERE my_films_new.rating != rating.rating\n",
    "LIMIT 10\"\"\"\n",
    "cur.execute(two_qu)\n",
    "cur.fetchall()"
   ]
  },
  {
   "cell_type": "markdown",
   "metadata": {},
   "source": [
    "Считаем средний рейтинг для фильмов для каждого года, если в этом году вышло больше одного фильма:"
   ]
  },
  {
   "cell_type": "code",
   "execution_count": 15,
   "metadata": {},
   "outputs": [
    {
     "data": {
      "text/plain": [
       "[(3.0, 1919),\n",
       " (6.0, 1938),\n",
       " (6.5, 1966),\n",
       " (4.0, 1992),\n",
       " (6.5, 1994),\n",
       " (8.0, 1995),\n",
       " (5.5, 1999),\n",
       " (3.0, 2002),\n",
       " (4.2, 2006),\n",
       " (9.25, 2007),\n",
       " (7.0, 2010),\n",
       " (5.5, 2012),\n",
       " (4.5, 2013),\n",
       " (3.6666666666666665, 2014),\n",
       " (7.166666666666667, 2015),\n",
       " (4.571428571428571, 2016),\n",
       " (6.75, 2017),\n",
       " (6.4, 2018),\n",
       " (5.555555555555555, 2019),\n",
       " (3.4, 2020)]"
      ]
     },
     "execution_count": 15,
     "metadata": {},
     "output_type": "execute_result"
    }
   ],
   "source": [
    "three_qu = \"\"\"\n",
    "SELECT AVG(rating), premiered\n",
    "FROM my_films_new\n",
    "WHERE premiered != \"None\"\n",
    "GROUP BY premiered HAVING COUNT(*) > 1\"\"\"\n",
    "cur.execute(three_qu)\n",
    "cur.fetchall()"
   ]
  },
  {
   "cell_type": "code",
   "execution_count": 16,
   "metadata": {},
   "outputs": [],
   "source": [
    "my_table = pd.read_sql_query(three_qu, con = con)"
   ]
  },
  {
   "cell_type": "code",
   "execution_count": 17,
   "metadata": {},
   "outputs": [
    {
     "data": {
      "image/png": "[encoded data removed]",
      "text/plain": [
       "<Figure size 432x288 with 1 Axes>"
      ]
     },
     "metadata": {
      "needs_background": "light"
     },
     "output_type": "display_data"
    }
   ],
   "source": [
    "height = list(my_table[\"AVG(rating)\"])\n",
    "bars = tuple(my_table[\"premiered\"])\n",
    "y_pos = np.arange(len(bars))\n",
    "plt.bar(y_pos, height)\n",
    "plt.xticks(y_pos, bars, rotation = -50)\n",
    "plt.xlabel('Год премьеры')\n",
    "plt.ylabel('Рейтинг')\n",
    "plt.show()\n"
   ]
  },
  {
   "cell_type": "markdown",
   "metadata": {},
   "source": [
    "Нужно добавить ещё две таблицы:\n",
    "- в первой будет номер фильма, номер оценившего человека и оценка;\n",
    "- во второй будет информация о людях."
   ]
  },
  {
   "cell_type": "markdown",
   "metadata": {},
   "source": [
    "![это таблица](https://raw.githubusercontent.com/YanaKoko/try/master/таблица.png)"
   ]
  },
  {
   "cell_type": "code",
   "execution_count": null,
   "metadata": {},
   "outputs": [],
   "source": []
  }
 ],
 "metadata": {
  "kernelspec": {
   "display_name": "Python 3",
   "language": "python",
   "name": "python3"
  },
  "language_info": {
   "codemirror_mode": {
    "name": "ipython",
    "version": 3
   },
   "file_extension": ".py",
   "mimetype": "text/x-python",
   "name": "python",
   "nbconvert_exporter": "python",
   "pygments_lexer": "ipython3",
   "version": "3.8.6rc1"
  }
 },
 "nbformat": 4,
 "nbformat_minor": 4
}
