{
 "cells": [
  {
   "cell_type": "code",
   "execution_count": 2,
   "metadata": {},
   "outputs": [],
   "source": [
    "from pymystem3 import Mystem\n",
    "m = Mystem()"
   ]
  },
  {
   "cell_type": "code",
   "execution_count": 40,
   "metadata": {},
   "outputs": [
    {
     "name": "stderr",
     "output_type": "stream",
     "text": [
      "2020-10-24 11:38:30,576 : INFO : Loading dictionaries from c:\\users\\dayk\\appdata\\local\\programs\\python\\python38\\lib\\site-packages\\pymorphy2_dicts_ru\\data\n",
      "2020-10-24 11:38:30,664 : INFO : format: 2.4, revision: 404381, updated: 2017-08-28T16:38:19.536338\n"
     ]
    }
   ],
   "source": [
    "import re\n",
    "import gensim\n",
    "import logging\n",
    "import nltk.data\n",
    "import pandas as pd\n",
    "import urllib.request\n",
    "from bs4 import BeautifulSoup\n",
    "from nltk.corpus import stopwords\n",
    "from nltk.tokenize import word_tokenize\n",
    "from gensim.models import word2vec\n",
    "from pymorphy2 import MorphAnalyzer\n",
    "morph = MorphAnalyzer()\n",
    "import warnings\n",
    "warnings.filterwarnings('ignore')"
   ]
  },
  {
   "cell_type": "code",
   "execution_count": 4,
   "metadata": {},
   "outputs": [],
   "source": [
    "from sklearn.decomposition import PCA\n",
    "import matplotlib.pyplot as plt\n",
    "%matplotlib inline"
   ]
  },
  {
   "cell_type": "markdown",
   "metadata": {},
   "source": [
    "# Пункт 1\n",
    "1. Преобразовать текст в формат:\n",
    "* только леммы, без знаков препинания, все в нижнем регистре\n",
    "* каждое предложение на отдельной строчке"
   ]
  },
  {
   "cell_type": "code",
   "execution_count": 5,
   "metadata": {},
   "outputs": [],
   "source": [
    "def read_clean(file, new_file):\n",
    "    with open (file, encoding = 'utf-8') as f:\n",
    "        my_text = f.readlines()\n",
    "    for line in my_text:\n",
    "        l = m.lemmatize(line)\n",
    "        words = [w.lower() for w in l if w.isalpha()]\n",
    "        line = ' '.join(words)\n",
    "        with open (new_file, encoding = 'utf-8', mode = 'a') as n_f:\n",
    "            n_f.write(line+'\\n')\n",
    "t = read_clean('anna-karenina.txt', 'lemmas_anna.txt')\n",
    "t"
   ]
  },
  {
   "cell_type": "markdown",
   "metadata": {},
   "source": [
    "2. Обучить модель как показано в конспекте с параметрами\n",
    "* размер вектора 300\n",
    "* минимальное количество вхождений 5\n",
    "* окно 5\n",
    "* количество итераций 50\n",
    "* Вопрос: сколько получилось слов в этой модели?"
   ]
  },
  {
   "cell_type": "code",
   "execution_count": 6,
   "metadata": {},
   "outputs": [],
   "source": [
    "f = 'lemmas_anna.txt'\n",
    "data = gensim.models.word2vec.LineSentence(f)"
   ]
  },
  {
   "cell_type": "code",
   "execution_count": 7,
   "metadata": {},
   "outputs": [],
   "source": [
    "logging.basicConfig(format='%(asctime)s : %(levelname)s : %(message)s', level=logging.INFO)"
   ]
  },
  {
   "cell_type": "code",
   "execution_count": 8,
   "metadata": {},
   "outputs": [
    {
     "name": "stderr",
     "output_type": "stream",
     "text": [
      "2020-10-24 11:10:43,554 : INFO : collecting all words and their counts\n",
      "2020-10-24 11:10:43,577 : INFO : PROGRESS: at sentence #0, processed 0 words, keeping 0 word types\n",
      "2020-10-24 11:10:46,157 : INFO : collected 12335 word types from a corpus of 268921 raw words and 7825 sentences\n",
      "2020-10-24 11:10:46,158 : INFO : Loading a fresh vocabulary\n",
      "2020-10-24 11:10:46,166 : INFO : effective_min_count=5 retains 3997 unique words (32% of original 12335, drops 8338)\n",
      "2020-10-24 11:10:46,167 : INFO : effective_min_count=5 leaves 254675 word corpus (94% of original 268921, drops 14246)\n",
      "2020-10-24 11:10:46,179 : INFO : deleting the raw counts dictionary of 12335 items\n",
      "2020-10-24 11:10:46,180 : INFO : sample=0.001 downsamples 56 most-common words\n",
      "2020-10-24 11:10:46,181 : INFO : downsampling leaves estimated 184713 word corpus (72.5% of prior 254675)\n",
      "2020-10-24 11:10:46,189 : INFO : estimated required memory for 3997 words and 300 dimensions: 11591300 bytes\n",
      "2020-10-24 11:10:46,190 : INFO : resetting layer weights\n",
      "2020-10-24 11:10:46,822 : INFO : training model with 3 workers on 3997 vocabulary and 300 features, using sg=0 hs=0 sample=0.001 negative=5 window=5\n",
      "2020-10-24 11:10:47,048 : INFO : worker thread finished; awaiting finish of 2 more threads\n",
      "2020-10-24 11:10:47,049 : INFO : worker thread finished; awaiting finish of 1 more threads\n",
      "2020-10-24 11:10:47,054 : INFO : worker thread finished; awaiting finish of 0 more threads\n",
      "2020-10-24 11:10:47,055 : INFO : EPOCH - 1 : training on 268921 raw words (184587 effective words) took 0.2s, 850994 effective words/s\n",
      "2020-10-24 11:10:47,264 : INFO : worker thread finished; awaiting finish of 2 more threads\n",
      "2020-10-24 11:10:47,274 : INFO : worker thread finished; awaiting finish of 1 more threads\n",
      "2020-10-24 11:10:47,278 : INFO : worker thread finished; awaiting finish of 0 more threads\n",
      "2020-10-24 11:10:47,280 : INFO : EPOCH - 2 : training on 268921 raw words (184591 effective words) took 0.2s, 836616 effective words/s\n",
      "2020-10-24 11:10:47,489 : INFO : worker thread finished; awaiting finish of 2 more threads\n",
      "2020-10-24 11:10:47,503 : INFO : worker thread finished; awaiting finish of 1 more threads\n",
      "2020-10-24 11:10:47,509 : INFO : worker thread finished; awaiting finish of 0 more threads\n",
      "2020-10-24 11:10:47,510 : INFO : EPOCH - 3 : training on 268921 raw words (184890 effective words) took 0.2s, 817948 effective words/s\n",
      "2020-10-24 11:10:47,728 : INFO : worker thread finished; awaiting finish of 2 more threads\n",
      "2020-10-24 11:10:47,729 : INFO : worker thread finished; awaiting finish of 1 more threads\n",
      "2020-10-24 11:10:47,734 : INFO : worker thread finished; awaiting finish of 0 more threads\n",
      "2020-10-24 11:10:47,735 : INFO : EPOCH - 4 : training on 268921 raw words (184681 effective words) took 0.2s, 833739 effective words/s\n",
      "2020-10-24 11:10:47,947 : INFO : worker thread finished; awaiting finish of 2 more threads\n",
      "2020-10-24 11:10:47,951 : INFO : worker thread finished; awaiting finish of 1 more threads\n",
      "2020-10-24 11:10:47,959 : INFO : worker thread finished; awaiting finish of 0 more threads\n",
      "2020-10-24 11:10:47,961 : INFO : EPOCH - 5 : training on 268921 raw words (184550 effective words) took 0.2s, 821729 effective words/s\n",
      "2020-10-24 11:10:47,963 : INFO : training on a 1344605 raw words (923299 effective words) took 1.1s, 810398 effective words/s\n"
     ]
    },
    {
     "name": "stdout",
     "output_type": "stream",
     "text": [
      "Wall time: 4.41 s\n"
     ]
    }
   ],
   "source": [
    "%time model = gensim.models.Word2Vec(data, size=300, window=5, min_count=5, iter = 5)"
   ]
  },
  {
   "cell_type": "code",
   "execution_count": 9,
   "metadata": {},
   "outputs": [
    {
     "name": "stdout",
     "output_type": "stream",
     "text": [
      "3997\n"
     ]
    }
   ],
   "source": [
    "print(len(model.wv.vocab))"
   ]
  },
  {
   "cell_type": "markdown",
   "metadata": {},
   "source": [
    "3. Использовать следующие функции:\n",
    "найти ближайшие 5 слов для\n",
    "* любого частотного слова (союза/местоимения/частицы)\n",
    "* абстрактного понятия\n",
    "* имени главного героя\n",
    "* прилагательных \"хороший\" и \"плохой\" (или любых других антонимов) (краткий комментарий про то, встретились ли синонимы, антонимы, близкие по распределению слова)"
   ]
  },
  {
   "cell_type": "code",
   "execution_count": 11,
   "metadata": {},
   "outputs": [
    {
     "data": {
      "text/plain": [
       "[('тело', 0.9927268028259277),\n",
       " ('наполнять', 0.9925136566162109),\n",
       " ('радость', 0.992504358291626),\n",
       " ('враждебность', 0.9924181699752808),\n",
       " ('отравлять', 0.9923233985900879)]"
      ]
     },
     "execution_count": 11,
     "metadata": {},
     "output_type": "execute_result"
    }
   ],
   "source": [
    "model.wv.most_similar(\"и\", topn=5)"
   ]
  },
  {
   "cell_type": "code",
   "execution_count": 12,
   "metadata": {},
   "outputs": [
    {
     "data": {
      "text/plain": [
       "[('душа', 0.9902912378311157),\n",
       " ('положение', 0.9856568574905396),\n",
       " ('жизнь', 0.9801018238067627),\n",
       " ('любовь', 0.9734194278717041),\n",
       " ('чувство', 0.9704731106758118)]"
      ]
     },
     "execution_count": 12,
     "metadata": {},
     "output_type": "execute_result"
    }
   ],
   "source": [
    "model.wv.most_similar(\"мысль\", topn=5)"
   ]
  },
  {
   "cell_type": "code",
   "execution_count": 13,
   "metadata": {},
   "outputs": [
    {
     "data": {
      "text/plain": [
       "[('шутливо', 0.9882187843322754),\n",
       " ('княгиня', 0.9868007898330688),\n",
       " ('воркуев', 0.9865370988845825),\n",
       " ('весловский', 0.9857174158096313),\n",
       " ('князь', 0.985055685043335)]"
      ]
     },
     "execution_count": 13,
     "metadata": {},
     "output_type": "execute_result"
    }
   ],
   "source": [
    "model.wv.most_similar(\"левин\", topn=5)"
   ]
  },
  {
   "cell_type": "code",
   "execution_count": 54,
   "metadata": {},
   "outputs": [
    {
     "data": {
      "text/plain": [
       "[('удаваться', 0.9986545443534851),\n",
       " ('попробовать', 0.9986283779144287),\n",
       " ('шутка', 0.9986161589622498),\n",
       " ('уговаривать', 0.9985591173171997),\n",
       " ('ужин', 0.9984685182571411)]"
      ]
     },
     "execution_count": 54,
     "metadata": {},
     "output_type": "execute_result"
    }
   ],
   "source": [
    "model.wv.most_similar(\"константин\", topn=5)"
   ]
  },
  {
   "cell_type": "code",
   "execution_count": 14,
   "metadata": {},
   "outputs": [
    {
     "data": {
      "text/plain": [
       "[('предпринимать', 0.9957557320594788),\n",
       " ('можно', 0.9929134845733643),\n",
       " ('убежденный', 0.9925966858863831),\n",
       " ('трудиться', 0.9925309419631958),\n",
       " ('должный', 0.9917792081832886)]"
      ]
     },
     "execution_count": 14,
     "metadata": {},
     "output_type": "execute_result"
    }
   ],
   "source": [
    "model.wv.most_similar(\"хороший\", topn=5)"
   ]
  },
  {
   "cell_type": "code",
   "execution_count": 15,
   "metadata": {},
   "outputs": [
    {
     "data": {
      "text/plain": [
       "[('напротив', 0.9994299411773682),\n",
       " ('жениться', 0.9993950128555298),\n",
       " ('оставлять', 0.9993268251419067),\n",
       " ('испортить', 0.9992455244064331),\n",
       " ('признаваться', 0.9986782073974609)]"
      ]
     },
     "execution_count": 15,
     "metadata": {},
     "output_type": "execute_result"
    }
   ],
   "source": [
    "model.wv.most_similar(\"плохой\", topn=5)"
   ]
  },
  {
   "cell_type": "markdown",
   "metadata": {},
   "source": [
    "Никаких синонимов или антонимов не встретилось."
   ]
  },
  {
   "cell_type": "markdown",
   "metadata": {},
   "source": [
    "* найти любую семантическую пропорцию (краткий комментарий, почему Вы выбрали такую пропорцию)"
   ]
  },
  {
   "cell_type": "code",
   "execution_count": 16,
   "metadata": {},
   "outputs": [
    {
     "data": {
      "text/plain": [
       "[('отчего', 0.9500342607498169)]"
      ]
     },
     "execution_count": 16,
     "metadata": {},
     "output_type": "execute_result"
    }
   ],
   "source": [
    "model.wv.most_similar(positive=[\"так\", \"как\"], negative=[\"такой\"], topn=1)"
   ]
  },
  {
   "cell_type": "markdown",
   "metadata": {},
   "source": [
    "* найти лишнее в списке слов (краткий комментарий про результат)\n",
    "\n",
    "Глагол *становиться* не относится к глаголам речи."
   ]
  },
  {
   "cell_type": "code",
   "execution_count": 17,
   "metadata": {},
   "outputs": [
    {
     "data": {
      "text/plain": [
       "'становиться'"
      ]
     },
     "execution_count": 17,
     "metadata": {},
     "output_type": "execute_result"
    }
   ],
   "source": [
    "model.wv.doesnt_match('отвечать говорить спрашивать становиться понимать'.split())"
   ]
  },
  {
   "cell_type": "markdown",
   "metadata": {},
   "source": [
    "Попробуйте сделать визуализацию с помощью PCA (один из вариантов на выбор, можно предложить свой)\n",
    "* попробуйте на именах героев (4+ имен, можно брать имя и фамилию героя отдельно, это даже интересно): это отражает их отношения / их характеры?\n",
    "* попробуйте на каких-то названиях предметов или животных: насколько это похоже на правду?\n",
    "* попробуйте на союзах, частицах, экспрессивах, многозначных словах: насколько результат соответствует Вашим ожиданиям?"
   ]
  },
  {
   "cell_type": "code",
   "execution_count": 24,
   "metadata": {},
   "outputs": [
    {
     "data": {
      "image/png": "[encoded data removed]",
      "text/plain": [
       "<Figure size 432x288 with 1 Axes>"
      ]
     },
     "metadata": {
      "needs_background": "light"
     },
     "output_type": "display_data"
    }
   ],
   "source": [
    "men = ['левин', 'константин', 'николай', 'стив', 'степан', 'облонский', 'вронский']\n",
    "pca = PCA(n_components=2)\n",
    "pca.fit(model[list(model.wv.vocab)])\n",
    "coords = pca.transform(model[men])\n",
    "plt.scatter(coords[:, 0], coords[:, 1], color='blue')\n",
    "for i, word in enumerate(men):\n",
    "    plt.annotate(word, xy=(coords[i, 0], coords[i, 1]))\n",
    "women = ['кити', 'долли', 'дарья', 'бетси', 'анна']\n",
    "coords = pca.transform(model[women])\n",
    "plt.scatter(coords[:, 0], coords[:, 1], color='red')\n",
    "for i, word in enumerate(women):\n",
    "    plt.annotate(word, xy=(coords[i, 0], coords[i, 1]))\n",
    "plt.title('Characters')\n",
    "plt.show()"
   ]
  },
  {
   "cell_type": "markdown",
   "metadata": {},
   "source": [
    "* Можно заметить, что Анна и Кити довольно близки.\n",
    "* Имена, фамилии и сокращённые имена употребляются по-разному.\n",
    "* Мужчины и женщины не группируются в две группы, как я ожидала."
   ]
  },
  {
   "cell_type": "code",
   "execution_count": 55,
   "metadata": {},
   "outputs": [
    {
     "data": {
      "image/png": "[encoded data removed]",
      "text/plain": [
       "<Figure size 432x288 with 1 Axes>"
      ]
     },
     "metadata": {
      "needs_background": "light"
     },
     "output_type": "display_data"
    }
   ],
   "source": [
    "words = ['обед', 'стол', 'стул']\n",
    "pca = PCA(n_components=2)\n",
    "pca.fit(model[list(model.wv.vocab)])\n",
    "coords = pca.transform(model[words])\n",
    "plt.scatter(coords[:, 0], coords[:, 1], color='red')\n",
    "plt.title('Words')\n",
    "for i, word in enumerate(words):\n",
    "    plt.annotate(word, xy=(coords[i, 0], coords[i, 1]))\n",
    "plt.show()"
   ]
  },
  {
   "cell_type": "code",
   "execution_count": 56,
   "metadata": {},
   "outputs": [
    {
     "data": {
      "image/png": "[encoded data removed]",
      "text/plain": [
       "<Figure size 432x288 with 1 Axes>"
      ]
     },
     "metadata": {
      "needs_background": "light"
     },
     "output_type": "display_data"
    }
   ],
   "source": [
    "words = ['глаз', 'ладонь', 'губа', 'щека', 'палец', 'плечо']\n",
    "pca = PCA(n_components=2)\n",
    "pca.fit(model[list(model.wv.vocab)])\n",
    "coords = pca.transform(model[words])\n",
    "plt.scatter(coords[:, 0], coords[:, 1], color='red')\n",
    "plt.title('Words')\n",
    "for i, word in enumerate(words):\n",
    "    plt.annotate(word, xy=(coords[i, 0], coords[i, 1]))\n",
    "plt.show()"
   ]
  },
  {
   "cell_type": "code",
   "execution_count": 57,
   "metadata": {},
   "outputs": [
    {
     "data": {
      "image/png": "[encoded data removed]",
      "text/plain": [
       "<Figure size 432x288 with 1 Axes>"
      ]
     },
     "metadata": {
      "needs_background": "light"
     },
     "output_type": "display_data"
    }
   ],
   "source": [
    "words = ['а', 'и', 'о', 'но', 'у', 'к']\n",
    "pca = PCA(n_components=2)\n",
    "pca.fit(model[list(model.wv.vocab)])\n",
    "coords = pca.transform(model[words])\n",
    "plt.scatter(coords[:, 0], coords[:, 1], color='red')\n",
    "plt.title('Words')\n",
    "for i, word in enumerate(words):\n",
    "    plt.annotate(word, xy=(coords[i, 0], coords[i, 1]))\n",
    "plt.show()"
   ]
  },
  {
   "cell_type": "code",
   "execution_count": 52,
   "metadata": {},
   "outputs": [],
   "source": [
    "def pre(sent):\n",
    "    pre_sent = sent.lower().split()\n",
    "    pre_sent = m.lemmatize(sent)\n",
    "    my_sent = [w.lower() for w in pre_sent if w.isalpha()]\n",
    "    return my_sent\n",
    "\n",
    "s = 'Уж который раз он видел его приезжавшим в Москву из деревни, где он что-то делал, но что именно, того Степан Аркадьич никогда не мог понять хорошенько, да и не интересовался'\n",
    "prep = pre(s)"
   ]
  },
  {
   "cell_type": "code",
   "execution_count": 53,
   "metadata": {},
   "outputs": [
    {
     "name": "stdout",
     "output_type": "stream",
     "text": [
      "ведь тот новый она потому она поехать деревня жалование весна она сделать не решать потому сергей ай верить понимать мочь нужно переменять \n"
     ]
    }
   ],
   "source": [
    "def change (my_list, my_model, stops):\n",
    "    new_sent = ''\n",
    "    for word in my_list:\n",
    "        if word not in stops:\n",
    "            common = model.wv.most_similar(word, topn = 1)\n",
    "            new_sent += common[0][0]\n",
    "            new_sent += ' '\n",
    "    print(new_sent)\n",
    "my_stops = ['а', 'и', 'не', 'но', 'к', 'в', 'из',\n",
    "           'на', 'над', 'за', 'о', 'у', 'ни', 'да', 'от']\n",
    "change(prep, model, my_stops)"
   ]
  },
  {
   "cell_type": "code",
   "execution_count": null,
   "metadata": {},
   "outputs": [],
   "source": []
  }
 ],
 "metadata": {
  "kernelspec": {
   "display_name": "Python 3",
   "language": "python",
   "name": "python3"
  },
  "language_info": {
   "codemirror_mode": {
    "name": "ipython",
    "version": 3
   },
   "file_extension": ".py",
   "mimetype": "text/x-python",
   "name": "python",
   "nbconvert_exporter": "python",
   "pygments_lexer": "ipython3",
   "version": "3.8.6rc1"
  }
 },
 "nbformat": 4,
 "nbformat_minor": 4
}
